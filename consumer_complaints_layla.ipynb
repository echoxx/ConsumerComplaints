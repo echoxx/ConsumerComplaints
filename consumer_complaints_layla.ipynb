{
 "cells": [
  {
   "cell_type": "markdown",
   "metadata": {},
   "source": [
    "Data.gov\n",
    "Source: https://catalog.data.gov/dataset/consumer-complaint-database#topic=consumer_navigation"
   ]
  },
  {
   "cell_type": "markdown",
   "metadata": {},
   "source": [
    "# Purpose of analysis: \n",
    "### Determine which products consumers complain about the most, according to the Bureau of Consumer Financial Protection.\n",
    "\n",
    "### Project type: Data cleaning & investigation"
   ]
  },
  {
   "cell_type": "code",
   "execution_count": 445,
   "metadata": {},
   "outputs": [],
   "source": [
    "import matplotlib.pyplot as plt\n",
    "import numpy as np\n",
    "import pandas as pd\n",
    "%matplotlib inline\n"
   ]
  },
  {
   "cell_type": "code",
   "execution_count": 446,
   "metadata": {},
   "outputs": [],
   "source": [
    "def print_full(x):\n",
    "    \"\"\"See all rows of a data frame without permanently resetting maximum displayed rows.\"\"\"\n",
    "    pd.set_option('display.max_rows', len(x)) \n",
    "    print(x)\n",
    "    pd.reset_option('display.max_rows')"
   ]
  },
  {
   "cell_type": "code",
   "execution_count": 447,
   "metadata": {},
   "outputs": [],
   "source": [
    "complaints = pd.read_csv('Consumer_Complaints.csv')"
   ]
  },
  {
   "cell_type": "code",
   "execution_count": 448,
   "metadata": {
    "scrolled": false
   },
   "outputs": [
    {
     "name": "stdout",
     "output_type": "stream",
     "text": [
      "Number of complaints: 1608094\n"
     ]
    },
    {
     "data": {
      "text/html": [
       "<div>\n",
       "<style scoped>\n",
       "    .dataframe tbody tr th:only-of-type {\n",
       "        vertical-align: middle;\n",
       "    }\n",
       "\n",
       "    .dataframe tbody tr th {\n",
       "        vertical-align: top;\n",
       "    }\n",
       "\n",
       "    .dataframe thead th {\n",
       "        text-align: right;\n",
       "    }\n",
       "</style>\n",
       "<table border=\"1\" class=\"dataframe\">\n",
       "  <thead>\n",
       "    <tr style=\"text-align: right;\">\n",
       "      <th></th>\n",
       "      <th>Date received</th>\n",
       "      <th>Product</th>\n",
       "      <th>Sub-product</th>\n",
       "      <th>Issue</th>\n",
       "      <th>Sub-issue</th>\n",
       "      <th>Consumer complaint narrative</th>\n",
       "      <th>Company public response</th>\n",
       "      <th>Company</th>\n",
       "      <th>State</th>\n",
       "      <th>ZIP code</th>\n",
       "      <th>Tags</th>\n",
       "      <th>Consumer consent provided?</th>\n",
       "      <th>Submitted via</th>\n",
       "      <th>Date sent to company</th>\n",
       "      <th>Company response to consumer</th>\n",
       "      <th>Timely response?</th>\n",
       "      <th>Consumer disputed?</th>\n",
       "      <th>Complaint ID</th>\n",
       "    </tr>\n",
       "  </thead>\n",
       "  <tbody>\n",
       "    <tr>\n",
       "      <th>0</th>\n",
       "      <td>2019-09-24</td>\n",
       "      <td>Debt collection</td>\n",
       "      <td>I do not know</td>\n",
       "      <td>Attempts to collect debt not owed</td>\n",
       "      <td>Debt is not yours</td>\n",
       "      <td>transworld systems inc. \\nis trying to collect...</td>\n",
       "      <td>NaN</td>\n",
       "      <td>TRANSWORLD SYSTEMS INC</td>\n",
       "      <td>FL</td>\n",
       "      <td>335XX</td>\n",
       "      <td>NaN</td>\n",
       "      <td>Consent provided</td>\n",
       "      <td>Web</td>\n",
       "      <td>2019-09-24</td>\n",
       "      <td>Closed with explanation</td>\n",
       "      <td>Yes</td>\n",
       "      <td>NaN</td>\n",
       "      <td>3384392</td>\n",
       "    </tr>\n",
       "    <tr>\n",
       "      <th>1</th>\n",
       "      <td>2019-09-19</td>\n",
       "      <td>Credit reporting, credit repair services, or o...</td>\n",
       "      <td>Credit reporting</td>\n",
       "      <td>Incorrect information on your report</td>\n",
       "      <td>Information belongs to someone else</td>\n",
       "      <td>NaN</td>\n",
       "      <td>Company has responded to the consumer and the ...</td>\n",
       "      <td>Experian Information Solutions Inc.</td>\n",
       "      <td>PA</td>\n",
       "      <td>15206</td>\n",
       "      <td>NaN</td>\n",
       "      <td>Consent not provided</td>\n",
       "      <td>Web</td>\n",
       "      <td>2019-09-20</td>\n",
       "      <td>Closed with non-monetary relief</td>\n",
       "      <td>Yes</td>\n",
       "      <td>NaN</td>\n",
       "      <td>3379500</td>\n",
       "    </tr>\n",
       "    <tr>\n",
       "      <th>2</th>\n",
       "      <td>2019-10-25</td>\n",
       "      <td>Credit reporting, credit repair services, or o...</td>\n",
       "      <td>Credit reporting</td>\n",
       "      <td>Incorrect information on your report</td>\n",
       "      <td>Information belongs to someone else</td>\n",
       "      <td>I would like to request the suppression of the...</td>\n",
       "      <td>Company has responded to the consumer and the ...</td>\n",
       "      <td>TRANSUNION INTERMEDIATE HOLDINGS, INC.</td>\n",
       "      <td>CA</td>\n",
       "      <td>937XX</td>\n",
       "      <td>NaN</td>\n",
       "      <td>Consent provided</td>\n",
       "      <td>Web</td>\n",
       "      <td>2019-10-25</td>\n",
       "      <td>Closed with explanation</td>\n",
       "      <td>Yes</td>\n",
       "      <td>NaN</td>\n",
       "      <td>3417821</td>\n",
       "    </tr>\n",
       "    <tr>\n",
       "      <th>3</th>\n",
       "      <td>2019-11-08</td>\n",
       "      <td>Debt collection</td>\n",
       "      <td>I do not know</td>\n",
       "      <td>Communication tactics</td>\n",
       "      <td>Frequent or repeated calls</td>\n",
       "      <td>Over the past 2 weeks, I have been receiving e...</td>\n",
       "      <td>NaN</td>\n",
       "      <td>Diversified Consultants, Inc.</td>\n",
       "      <td>NC</td>\n",
       "      <td>275XX</td>\n",
       "      <td>NaN</td>\n",
       "      <td>Consent provided</td>\n",
       "      <td>Web</td>\n",
       "      <td>2019-11-08</td>\n",
       "      <td>Closed with explanation</td>\n",
       "      <td>Yes</td>\n",
       "      <td>NaN</td>\n",
       "      <td>3433198</td>\n",
       "    </tr>\n",
       "    <tr>\n",
       "      <th>4</th>\n",
       "      <td>2019-02-08</td>\n",
       "      <td>Vehicle loan or lease</td>\n",
       "      <td>Lease</td>\n",
       "      <td>Problem with a credit reporting company's inve...</td>\n",
       "      <td>Their investigation did not fix an error on yo...</td>\n",
       "      <td>NaN</td>\n",
       "      <td>NaN</td>\n",
       "      <td>HYUNDAI CAPITAL AMERICA</td>\n",
       "      <td>FL</td>\n",
       "      <td>33161</td>\n",
       "      <td>NaN</td>\n",
       "      <td>Consent not provided</td>\n",
       "      <td>Web</td>\n",
       "      <td>2019-02-08</td>\n",
       "      <td>Closed with non-monetary relief</td>\n",
       "      <td>Yes</td>\n",
       "      <td>NaN</td>\n",
       "      <td>3146310</td>\n",
       "    </tr>\n",
       "  </tbody>\n",
       "</table>\n",
       "</div>"
      ],
      "text/plain": [
       "  Date received                                            Product  \\\n",
       "0    2019-09-24                                    Debt collection   \n",
       "1    2019-09-19  Credit reporting, credit repair services, or o...   \n",
       "2    2019-10-25  Credit reporting, credit repair services, or o...   \n",
       "3    2019-11-08                                    Debt collection   \n",
       "4    2019-02-08                              Vehicle loan or lease   \n",
       "\n",
       "        Sub-product                                              Issue  \\\n",
       "0     I do not know                  Attempts to collect debt not owed   \n",
       "1  Credit reporting               Incorrect information on your report   \n",
       "2  Credit reporting               Incorrect information on your report   \n",
       "3     I do not know                              Communication tactics   \n",
       "4             Lease  Problem with a credit reporting company's inve...   \n",
       "\n",
       "                                           Sub-issue  \\\n",
       "0                                  Debt is not yours   \n",
       "1                Information belongs to someone else   \n",
       "2                Information belongs to someone else   \n",
       "3                         Frequent or repeated calls   \n",
       "4  Their investigation did not fix an error on yo...   \n",
       "\n",
       "                        Consumer complaint narrative  \\\n",
       "0  transworld systems inc. \\nis trying to collect...   \n",
       "1                                                NaN   \n",
       "2  I would like to request the suppression of the...   \n",
       "3  Over the past 2 weeks, I have been receiving e...   \n",
       "4                                                NaN   \n",
       "\n",
       "                             Company public response  \\\n",
       "0                                                NaN   \n",
       "1  Company has responded to the consumer and the ...   \n",
       "2  Company has responded to the consumer and the ...   \n",
       "3                                                NaN   \n",
       "4                                                NaN   \n",
       "\n",
       "                                  Company State ZIP code Tags  \\\n",
       "0                  TRANSWORLD SYSTEMS INC    FL    335XX  NaN   \n",
       "1     Experian Information Solutions Inc.    PA    15206  NaN   \n",
       "2  TRANSUNION INTERMEDIATE HOLDINGS, INC.    CA    937XX  NaN   \n",
       "3           Diversified Consultants, Inc.    NC    275XX  NaN   \n",
       "4                 HYUNDAI CAPITAL AMERICA    FL    33161  NaN   \n",
       "\n",
       "  Consumer consent provided? Submitted via Date sent to company  \\\n",
       "0           Consent provided           Web           2019-09-24   \n",
       "1       Consent not provided           Web           2019-09-20   \n",
       "2           Consent provided           Web           2019-10-25   \n",
       "3           Consent provided           Web           2019-11-08   \n",
       "4       Consent not provided           Web           2019-02-08   \n",
       "\n",
       "      Company response to consumer Timely response? Consumer disputed?  \\\n",
       "0          Closed with explanation              Yes                NaN   \n",
       "1  Closed with non-monetary relief              Yes                NaN   \n",
       "2          Closed with explanation              Yes                NaN   \n",
       "3          Closed with explanation              Yes                NaN   \n",
       "4  Closed with non-monetary relief              Yes                NaN   \n",
       "\n",
       "   Complaint ID  \n",
       "0       3384392  \n",
       "1       3379500  \n",
       "2       3417821  \n",
       "3       3433198  \n",
       "4       3146310  "
      ]
     },
     "execution_count": 448,
     "metadata": {},
     "output_type": "execute_result"
    }
   ],
   "source": [
    "print(f'Number of complaints: {len(complaints)}')\n",
    "complaints.head()"
   ]
  },
  {
   "cell_type": "markdown",
   "metadata": {},
   "source": [
    "## Clean Data (A):\n",
    "* Drop unnecessary columns. This analysis will focus on product/sub-products that received the most complaints,and the issue/sub-issue related to those products.\n",
    "* Rename columns for ease of use.\n",
    "* Convert dates to date_time type.\n",
    "\n",
    "[To Do:] Check for null values"
   ]
  },
  {
   "cell_type": "code",
   "execution_count": 449,
   "metadata": {},
   "outputs": [],
   "source": [
    "unnecessary_cols = ['Consumer complaint narrative', 'Company public response', 'Tags', 'Consumer consent provided?',\n",
    "                    'Submitted via', 'Date sent to company', 'Timely response?', 'Complaint ID']\n",
    "\n",
    "complaints.drop(unnecessary_cols, axis = 1, inplace = True)"
   ]
  },
  {
   "cell_type": "code",
   "execution_count": 450,
   "metadata": {},
   "outputs": [],
   "source": [
    "complaints.rename(columns={\n",
    "    'Date received': 'date_received', \n",
    "    'Product': 'product',\n",
    "    'Sub-product': 'sub_product',\n",
    "    'Issue': 'issue',\n",
    "    'Sub-issue': 'sub_issue',\n",
    "    'Company': 'company',\n",
    "    'State': 'state',\n",
    "    'ZIP code': 'zip',\n",
    "    'Company response to consumer': 'comp_response_to_consumer',\n",
    "    'Consumer disputed?': 'disputed'\n",
    "}, inplace=True)\n"
   ]
  },
  {
   "cell_type": "code",
   "execution_count": 451,
   "metadata": {},
   "outputs": [],
   "source": [
    "complaints['date_received']=pd.to_datetime(complaints['date_received'], format='%m/%d/%Y', errors='ignore') "
   ]
  },
  {
   "cell_type": "markdown",
   "metadata": {},
   "source": [
    "## Investigate Data (1)\n",
    "* Review column names and object types (all 'object' are strings, and therefore could require additional cleaning).\n",
    "* **TO DO: REVIEW PANDAS OBJECTS BEFORE FINALIZING THIS MARKDOWN**\n",
    "* Identify number of products (18) and subproducts (77).\n",
    "* Identify most complained about products and subproducts.\n"
   ]
  },
  {
   "cell_type": "code",
   "execution_count": 452,
   "metadata": {},
   "outputs": [
    {
     "name": "stdout",
     "output_type": "stream",
     "text": [
      "<class 'pandas.core.frame.DataFrame'>\n",
      "RangeIndex: 1608094 entries, 0 to 1608093\n",
      "Data columns (total 10 columns):\n",
      " #   Column                     Non-Null Count    Dtype \n",
      "---  ------                     --------------    ----- \n",
      " 0   date_received              1608094 non-null  object\n",
      " 1   product                    1608094 non-null  object\n",
      " 2   sub_product                1372929 non-null  object\n",
      " 3   issue                      1608094 non-null  object\n",
      " 4   sub_issue                  1038872 non-null  object\n",
      " 5   company                    1608094 non-null  object\n",
      " 6   state                      1580829 non-null  object\n",
      " 7   zip                        1454926 non-null  object\n",
      " 8   comp_response_to_consumer  1608093 non-null  object\n",
      " 9   disputed                   768477 non-null   object\n",
      "dtypes: object(10)\n",
      "memory usage: 122.7+ MB\n",
      "None \n",
      "\n",
      "date_received                object\n",
      "product                      object\n",
      "sub_product                  object\n",
      "issue                        object\n",
      "sub_issue                    object\n",
      "company                      object\n",
      "state                        object\n",
      "zip                          object\n",
      "comp_response_to_consumer    object\n",
      "disputed                     object\n",
      "dtype: object\n"
     ]
    }
   ],
   "source": [
    "print(f'{complaints.info()} \\n\\n{complaints.dtypes}')"
   ]
  },
  {
   "cell_type": "code",
   "execution_count": 453,
   "metadata": {},
   "outputs": [
    {
     "name": "stdout",
     "output_type": "stream",
     "text": [
      "Total Product Complaints: 18\n",
      "Total Sub-product Complaints: 77\n"
     ]
    }
   ],
   "source": [
    "\"\"\"Check total number of products and sub-products.\"\"\"\n",
    "unique_product_complaints = complaints['product'].unique()\n",
    "unique_subproduct_complaints = complaints['sub_product'].unique()\n",
    "\n",
    "print(f'Total Product Complaints: {len(unique_product_complaints)}')\n",
    "print(f'Total Sub-product Complaints: {len(unique_subproduct_complaints)}')"
   ]
  },
  {
   "cell_type": "code",
   "execution_count": 454,
   "metadata": {
    "scrolled": true
   },
   "outputs": [
    {
     "name": "stdout",
     "output_type": "stream",
     "text": [
      "Credit reporting, credit repair services, or other personal consumer reports    402936\n",
      "Mortgage                                                                        302157\n",
      "Debt collection                                                                 294389\n",
      "Credit reporting                                                                140432\n",
      "Credit card                                                                      89190\n",
      "Bank account or service                                                          86206\n",
      "Credit card or prepaid card                                                      77130\n",
      "Checking or savings account                                                      63747\n",
      "Student loan                                                                     58024\n",
      "Consumer Loan                                                                    31604\n",
      "Vehicle loan or lease                                                            17264\n",
      "Money transfer, virtual currency, or money service                               15936\n",
      "Payday loan, title loan, or personal loan                                        13286\n",
      "Payday loan                                                                       5543\n",
      "Money transfers                                                                   5354\n",
      "Prepaid card                                                                      3819\n",
      "Other financial service                                                           1059\n",
      "Virtual currency                                                                    18\n",
      "Name: product, dtype: int64 \n",
      "\n"
     ]
    },
    {
     "data": {
      "text/plain": [
       "<matplotlib.axes._subplots.AxesSubplot at 0x206128ee0>"
      ]
     },
     "execution_count": 454,
     "metadata": {},
     "output_type": "execute_result"
    },
    {
     "data": {
      "image/png": "[encoded data removed]",
      "text/plain": [
       "<Figure size 432x288 with 1 Axes>"
      ]
     },
     "metadata": {
      "needs_background": "light"
     },
     "output_type": "display_data"
    }
   ],
   "source": [
    "\"\"\"Display products sorted by # of complaints.\"\"\"\n",
    "product_value_counts = complaints['product'].value_counts()\n",
    "\n",
    "print(f'{product_value_counts} \\n')\n",
    "product_value_counts.plot(kind='bar') "
   ]
  },
  {
   "cell_type": "code",
   "execution_count": 455,
   "metadata": {},
   "outputs": [
    {
     "name": "stdout",
     "output_type": "stream",
     "text": [
      "Credit reporting, credit repair services, or other personal consumer reports    402936\n",
      "Mortgage                                                                        302157\n",
      "Debt collection                                                                 294389\n",
      "Credit reporting                                                                140432\n",
      "Credit card                                                                      89190\n",
      "Bank account or service                                                          86206\n",
      "Credit card or prepaid card                                                      77130\n",
      "Checking or savings account                                                      63747\n",
      "Student loan                                                                     58024\n",
      "Consumer Loan                                                                    31604\n",
      "Vehicle loan or lease                                                            17264\n",
      "Money transfer, virtual currency, or money service                               15936\n",
      "Payday loan, title loan, or personal loan                                        13286\n",
      "Payday loan                                                                       5543\n",
      "Money transfers                                                                   5354\n",
      "Prepaid card                                                                      3819\n",
      "Other financial service                                                           1059\n",
      "Virtual currency                                                                    18\n",
      "Name: product, dtype: int64\n"
     ]
    }
   ],
   "source": [
    "\"\"\"Review all sub-products\n",
    "Recall: print_full defined above, to display all rows \n",
    "\"\"\"\n",
    "\n",
    "print_full(product_value_counts)"
   ]
  },
  {
   "cell_type": "code",
   "execution_count": 456,
   "metadata": {},
   "outputs": [
    {
     "name": "stdout",
     "output_type": "stream",
     "text": [
      "Debt collection    61502\n",
      "Name: product, dtype: int64\n",
      "I do not know                            61502\n",
      "Other (i.e. phone, health club, etc.)    44543\n",
      "Other debt                               43890\n",
      "Credit card debt                         31739\n",
      "Credit card                              28698\n",
      "Medical debt                             23858\n",
      "Medical                                  21187\n",
      "Payday loan                               7562\n",
      "Auto debt                                 4829\n",
      "Mortgage                                  4809\n",
      "Payday loan debt                          4559\n",
      "Auto                                      3755\n",
      "Mortgage debt                             3343\n",
      "Non-federal student loan                  2881\n",
      "Federal student loan debt                 2499\n",
      "Federal student loan                      2475\n",
      "Private student loan debt                 2260\n",
      "Name: sub_product, dtype: int64\n"
     ]
    }
   ],
   "source": [
    "\"\"\"Check which products the 'I do not know' sub_product is most found in\"\"\"\n",
    "\n",
    "idk_bool = complaints['sub_product'] == 'I do not know' # Bool for all sub_products with \"I do not know\" as answer\n",
    "print( complaints['product'][idk_bool].value_counts() )\n",
    "\n",
    "\"\"\"Check what other sub_products exist within the 'Debt collection' product\"\"\"\n",
    "print( complaints['sub_product'][complaints['product'] == 'Debt collection'].value_counts())"
   ]
  },
  {
   "cell_type": "code",
   "execution_count": 457,
   "metadata": {},
   "outputs": [
    {
     "data": {
      "text/plain": [
       "Debt collection    44543\n",
       "Name: product, dtype: int64"
      ]
     },
     "execution_count": 457,
     "metadata": {},
     "output_type": "execute_result"
    }
   ],
   "source": [
    "\"\"\"Check in which product categories the sub_product 'Other (i.e. phone, health club, etc.) exists.\n",
    "Result: only in 'Debt collection'\n",
    "\"\"\"\n",
    "\n",
    "complaints[complaints['sub_product'] == 'Other (i.e. phone, health club, etc.)']['product'].value_counts()"
   ]
  },
  {
   "cell_type": "markdown",
   "metadata": {},
   "source": [
    "## Observations:\n",
    "* \"I do not know\" is the 5th most answered sub-product. All of these are part of the \"debt collection\" product.\n",
    "* There are two 'other' subproducts within the 'Debt collection' product. \n",
    "\n",
    "\n",
    "Three other product categories have overlaps that must be re-sorted:\n",
    "* Credit card / credit card or prepaid card / prepaid card\n",
    "* Money transfers / money transfer, virtual currency, or money service / virtual currency\n",
    "* Payday loan / payday loan, title loan, orpersonal loan / consumer loan\n",
    "\n",
    "## Clean Data (B):\n",
    "* Rename and consolidate 'I do not know' and 'Other (i.e.phone, health club, etc.)' sub_product into 'Other debt' within\n",
    "    the 'Debt collection' product."
   ]
  },
  {
   "cell_type": "code",
   "execution_count": 458,
   "metadata": {},
   "outputs": [
    {
     "name": "stdout",
     "output_type": "stream",
     "text": [
      "Other debt                   149935\n",
      "Credit card debt              31739\n",
      "Credit card                   28698\n",
      "Medical debt                  23858\n",
      "Medical                       21187\n",
      "Payday loan                    7562\n",
      "Auto debt                      4829\n",
      "Mortgage                       4809\n",
      "Payday loan debt               4559\n",
      "Auto                           3755\n",
      "Mortgage debt                  3343\n",
      "Non-federal student loan       2881\n",
      "Federal student loan debt      2499\n",
      "Federal student loan           2475\n",
      "Private student loan debt      2260\n",
      "Name: sub_product, dtype: int64\n"
     ]
    }
   ],
   "source": [
    "complaints['sub_product'] = complaints['sub_product'].str.replace(\n",
    "    'I do not know', \n",
    "    'Other debt'\n",
    ")\n",
    "complaints['sub_product'] = complaints['sub_product'].str.replace(\n",
    "    'Other (i.e. phone, health club, etc.)', \n",
    "    'Other debt', \n",
    "    regex = False\n",
    ") \n",
    "\n",
    "\"\"\"str.replace(regex = False) treats the string being replaced as a literal rather than a regex expression. \n",
    "Necessary to parse the parantheses in 'Other (i.e. phone, health club, etc.)', which would otherwise be\n",
    "treated as capture groups.\n",
    "see: https://pandas.pydata.org/pandas-docs/stable/reference/api/pandas.Series.str.replace.html \n",
    "\"\"\"\n",
    "\n",
    "# Confirm subproducts have been renamed in 'Debt collection product'\n",
    "print_full(complaints[complaints['product'] == 'Debt collection']['sub_product'].value_counts())"
   ]
  },
  {
   "cell_type": "code",
   "execution_count": 459,
   "metadata": {},
   "outputs": [],
   "source": [
    "# [SHOULD THIS GO SOMEWHERE ELSE?]\n",
    "complaints.loc[complaints['product'] == 'Consumer Loan'] = 'Consumer loan' # for consistency's sake"
   ]
  },
  {
   "cell_type": "markdown",
   "metadata": {},
   "source": [
    "## Clean Data (C):\n",
    "Rename & resort product categories for overlapping/redundant sub-category names \n",
    "\n",
    "1) Credit cards / prepaid cards / credit or prepaid cards\n",
    "\n",
    "2) Money transfer / Virtual currency / Money transfer, virtual currency, or money service sub_products\n",
    "\n",
    "3) Payday loan / consumer loan / Payday loan, title loan, or personal loan                                        \n"
   ]
  },
  {
   "cell_type": "markdown",
   "metadata": {},
   "source": [
    "### Investigate product groups that have overlapping sub_product gruops:\n",
    "1. Credit card or prepaid card / credit card / prepaid card\n",
    "2. Money transfer, virtual currency, or money service / Money transfer / Virtual currency \n",
    "3. Payday, title or personal loan / Payday loan / consumer loan \n"
   ]
  },
  {
   "cell_type": "code",
   "execution_count": 460,
   "metadata": {},
   "outputs": [
    {
     "name": "stdout",
     "output_type": "stream",
     "text": [
      "Credit or prepaid card sub_products: \n",
      "General-purpose credit card or charge card    59312\n",
      "Store credit card                             12501\n",
      "General-purpose prepaid card                   2959\n",
      "Government benefit card                        1728\n",
      "Payroll card                                    331\n",
      "Gift card                                       292\n",
      "Student prepaid card                              7\n",
      "Name: sub_product, dtype: int64 \n",
      "\n",
      "Credit cards sub_products: \n",
      "Series([], Name: sub_product, dtype: int64) \n",
      "\n",
      "Prepaid cards sub_products: \n",
      "General purpose card                      1752\n",
      "Mobile wallet                              418\n",
      "Payroll card                               411\n",
      "Gift or merchant card                      402\n",
      "Government benefit payment card            389\n",
      "ID prepaid card                            207\n",
      "Other special purpose card                 191\n",
      "Transit card                                37\n",
      "Electronic Benefit Transfer / EBT card      12\n",
      "Name: sub_product, dtype: int64 \n",
      "\n",
      "\n"
     ]
    }
   ],
   "source": [
    "\"\"\"1. Credit card or prepaid card / credit card / prepaid card\"\"\"\n",
    "\n",
    "credit_or_prepaid_card_bool = complaints['product'] == 'Credit card or prepaid card'\n",
    "credit_card_bool = complaints['product'] == 'Credit card'\n",
    "prepaid_card_bool = complaints['product'] == 'Prepaid card'\n",
    "\n",
    "credit_or_prepaid_cards = complaints[credit_or_prepaid_card_bool]\n",
    "credit_cards = complaints[credit_card_bool]\n",
    "prepaid_cards = complaints[prepaid_card_bool]\n",
    "\n",
    "credit_or_prepaid_cards_subproducts = credit_or_prepaid_cards['sub_product']\n",
    "credit_subproducts = credit_cards['sub_product']\n",
    "prepaid_cards_subproducts = prepaid_cards['sub_product']\n",
    "\n",
    "print(\n",
    "    f'Credit or prepaid card sub_products: \\n{credit_or_prepaid_cards_subproducts.value_counts()} \\n\\n'\n",
    "    f'Credit cards sub_products: \\n{credit_subproducts.value_counts()} \\n\\n'\n",
    "    f'Prepaid cards sub_products: \\n{prepaid_cards_subproducts.value_counts()} \\n\\n'\n",
    ")"
   ]
  },
  {
   "cell_type": "code",
   "execution_count": 461,
   "metadata": {},
   "outputs": [
    {
     "name": "stdout",
     "output_type": "stream",
     "text": [
      "Money transfer, virtual currency, or money service sub_products: \n",
      "Domestic (US) money transfer           4663\n",
      "Mobile or digital wallet               4100\n",
      "International money transfer           2783\n",
      "Virtual currency                       2670\n",
      "Debt settlement                         440\n",
      "Traveler's check or cashier's check     353\n",
      "Money order                             307\n",
      "Check cashing service                   277\n",
      "Foreign currency exchange               192\n",
      "Refund anticipation check               151\n",
      "Name: sub_product, dtype: int64 \n",
      "\n",
      "Money transfer sub_products: \n",
      "Series([], Name: sub_product, dtype: int64) \n",
      "\n",
      "Virtual currency sub_products: \n",
      "Domestic (US) money transfer    17\n",
      "International money transfer     1\n",
      "Name: sub_product, dtype: int64 \n",
      "\n",
      "\n"
     ]
    }
   ],
   "source": [
    "\"\"\"2. Money transfer, virtual currency, or money service / Money transfer / Virtual currency\"\"\"\n",
    "\n",
    "moneytransfer_virtualcurency_moneyservice_bool = complaints['product'] == 'Money transfer, virtual currency, or money service'\n",
    "moneytransfer_bool = complaints['product'] == 'Money transfer'\n",
    "virtualcurrency_bool = complaints['product'] == 'Virtual currency'\n",
    "\n",
    "moneytransfer_virtualcurency_moneyservice = complaints[moneytransfer_virtualcurency_moneyservice_bool]\n",
    "moneytransfer = complaints[moneytransfer_bool]\n",
    "virtualcurrency = complaints[virtualcurrency_bool]\n",
    "\n",
    "moneytransfer_virtualcurrency_moneyservice_subproducts = moneytransfer_virtualcurency_moneyservice['sub_product']\n",
    "moneytransfer_subproducts = moneytransfer['sub_product']\n",
    "virtualcurrency_subproducts = virtualcurrency['sub_product']\n",
    "\n",
    "print(\n",
    "    f'Money transfer, virtual currency, or money service sub_products: \\n'\n",
    "    f'{moneytransfer_virtualcurrency_moneyservice_subproducts.value_counts()} \\n\\n'\n",
    "    f'Money transfer sub_products: \\n{moneytransfer_subproducts.value_counts()} \\n\\n'\n",
    "    f'Virtual currency sub_products: \\n{virtualcurrency_subproducts.value_counts()} \\n\\n'\n",
    ")"
   ]
  },
  {
   "cell_type": "code",
   "execution_count": 462,
   "metadata": {},
   "outputs": [
    {
     "name": "stdout",
     "output_type": "stream",
     "text": [
      "Payday loan, title loan, or personal sub_products: \n",
      "Installment loan           5441\n",
      "Payday loan                3951\n",
      "Personal line of credit    2670\n",
      "Title loan                 1192\n",
      "Pawn loan                    32\n",
      "Name: sub_product, dtype: int64 \n",
      "\n",
      "Payday loan sub_products: \n",
      "Series([], Name: sub_product, dtype: int64) \n",
      "\n",
      "Consumer loan sub_products: \n",
      "Consumer loan    31604\n",
      "Name: sub_product, dtype: int64 \n",
      "\n",
      "\n"
     ]
    }
   ],
   "source": [
    "\"\"\"3. Payday, title or personal loan / Payday loan / consumer loan\"\"\"\n",
    "\n",
    "payday_title_or_personal_loan_bool = complaints['product'] == 'Payday loan, title loan, or personal loan'\n",
    "payday_loan_bool = complaints['product'] == 'Payday loan'\n",
    "consumer_loan_bool = complaints['product'] == 'Consumer loan'\n",
    "\n",
    "payday_title_or_personal_loan = complaints[payday_title_or_personal_loan_bool]\n",
    "payday_loan = complaints[payday_loan_bool]\n",
    "consumer_loan = complaints[consumer_loan_bool]\n",
    "\n",
    "payday_title_or_personal_loan_subproducts = payday_title_or_personal_loan['sub_product']\n",
    "payday_loan_subproducts = payday_loan['sub_product']\n",
    "consumer_loan_subproducts = consumer_loan['sub_product']\n",
    "\n",
    "print(\n",
    "    f'Payday loan, title loan, or personal sub_products: \\n{payday_title_or_personal_loan_subproducts.value_counts()} \\n\\n'\n",
    "    f'Payday loan sub_products: \\n{payday_loan_subproducts.value_counts()} \\n\\n'\n",
    "    f'Consumer loan sub_products: \\n{consumer_loan_subproducts.value_counts()} \\n\\n'\n",
    ")"
   ]
  },
  {
   "cell_type": "markdown",
   "metadata": {},
   "source": [
    "### Resort overlapping product and sub_product categories"
   ]
  },
  {
   "cell_type": "code",
   "execution_count": 463,
   "metadata": {},
   "outputs": [],
   "source": [
    "\"\"\"Resort 'Credit card or prepaid card' product group into either 'credit card' or 'prepaid card' \n",
    "\n",
    "Initially, ran into issues with settingiwthcopywarning in this cell, due to chained indexing.\n",
    "Accurate syntax for fixing this was found at: https://www.dataquest.io/blog/settingwithcopywarning/\n",
    "\"\"\"\n",
    "\n",
    "# Resort the following into 'Credit card' product\n",
    "credit_card_group = [\n",
    "    'General-purpose credit card or charge card',\n",
    "    'Store credit card',\n",
    "]\n",
    "\n",
    "for item in credit_card_group:\n",
    "    complaints.loc[complaints['sub_product'] == item, 'product'] = 'Credit card'\n",
    "\n",
    "# Resort the following into 'Prepaid card' product group\n",
    "prepaid_card_group = [\n",
    "    'General-purpose prepaid card',\n",
    "    'Government benefit card',\n",
    "    'Payroll card',\n",
    "    'Gift card',\n",
    "    'Student prepaid card'\n",
    "]\n",
    "\n",
    "for item in prepaid_card_group:\n",
    "    complaints.loc[complaints['sub_product'] == item, 'product'] = 'Prepaid card'"
   ]
  },
  {
   "cell_type": "code",
   "execution_count": 464,
   "metadata": {},
   "outputs": [
    {
     "data": {
      "text/plain": [
       "Money transfer, virtual currency, or money service    2670\n",
       "Name: product, dtype: int64"
      ]
     },
     "execution_count": 464,
     "metadata": {},
     "output_type": "execute_result"
    }
   ],
   "source": [
    "complaints.loc[complaints['sub_product'] == 'Virtual currency', 'product'].value_counts()"
   ]
  },
  {
   "cell_type": "code",
   "execution_count": 465,
   "metadata": {},
   "outputs": [
    {
     "data": {
      "text/plain": [
       "Domestic (US) money transfer    17\n",
       "International money transfer     1\n",
       "Name: sub_product, dtype: int64"
      ]
     },
     "execution_count": 465,
     "metadata": {},
     "output_type": "execute_result"
    }
   ],
   "source": [
    "complaints.loc[complaints['product'] == 'Virtual currency', 'sub_product'].value_counts()"
   ]
  },
  {
   "cell_type": "markdown",
   "metadata": {},
   "source": [
    "### Observations:\n",
    "* All \"Virtual currency\" products have a sub_product that fits more appropriately in a \"Money Transfer\" product\n",
    "* All \"Virtual currency\" sub_products currently fall within the \"Money transfer, Virtual currency, or money service\" product"
   ]
  },
  {
   "cell_type": "code",
   "execution_count": 466,
   "metadata": {},
   "outputs": [],
   "source": [
    "\"\"\"Re-sort Money transfers, virtual currency, or money service / money transfers / virtual currency\"\"\"\n",
    "\n",
    "# All 'virtual currency' sub_product sorted into the 'virtual currency' product group\n",
    "complaints.loc[complaints['sub_product'] == 'Virtual currency', 'product'] = 'Virtual currency'\n",
    "complaints.loc[complaints['sub_product'] == 'Mobile or digital wallet', 'product'] = 'Virtual currency'\n",
    "\n",
    "# All 'Money transfers', which originally were in 'Virtual currency' product group, \n",
    "# sorted into 'Money transfer' product group\n",
    "complaints.loc[complaints['sub_product'] == 'Domestic (US) money transfer', 'product'] = 'Money transfers'\n",
    "complaints.loc[complaints['sub_product'] == 'International money transfer', 'product'] = 'Money transfers'\n",
    "complaints.loc[complaints['sub_product'] == 'Foreign currency exchange', 'product'] = 'Money transfers'\n",
    "\n",
    "# Rename trimmed product group \n",
    "complaints.loc[complaints['product'] == 'Money transfer, virtual currency, or money service', 'product'] = 'Money service'\n",
    "\n"
   ]
  },
  {
   "cell_type": "code",
   "execution_count": 467,
   "metadata": {},
   "outputs": [],
   "source": [
    "\"\"\"Re-sort Payday, title, personal loans / payday loans / consumer loans\"\"\"\n",
    "\n",
    "# Payday loans\n",
    "complaints.loc[(complaints['sub_product'] == 'Payday loan') &  \n",
    "               (complaints['product'] == 'Payday loan, title loan, or personal loan'), 'product'] = 'Payday loan'\n",
    "\n",
    "# Consumer loans\n",
    "complaints.loc[(complaints['sub_product'] == 'Personal line of credit') &  \n",
    "               (complaints['product'] == 'Payday loan, title loan, or personal loan'), 'product'] = 'Consumer loan'\n",
    "\n",
    "complaints.loc[(complaints['sub_product'] == 'Installment loan') &  \n",
    "               (complaints['product'] == 'Payday loan, title loan, or personal loan'), 'product'] = 'Consumer loan'\n",
    "\n",
    "complaints.loc[(complaints['sub_product'] == 'Title loan') &  \n",
    "               (complaints['product'] == 'Payday loan, title loan, or personal loan'), 'product'] = 'Consumer loan'\n",
    "\n",
    "complaints.loc[(complaints['sub_product'] == 'Pawn loan') &  \n",
    "               (complaints['product'] == 'Payday loan, title loan, or personal loan'), 'product'] = 'Consumer loan'\n"
   ]
  },
  {
   "cell_type": "code",
   "execution_count": 468,
   "metadata": {},
   "outputs": [],
   "source": [
    "\"\"\"Shorten credit reporting product category name\"\"\"\n",
    "\n",
    "complaints.loc[complaints['product'] == 'Credit reporting, credit repair services, or other personal consumer reports', \n",
    "               'product'] = 'Credit reporting'"
   ]
  },
  {
   "cell_type": "code",
   "execution_count": 472,
   "metadata": {},
   "outputs": [
    {
     "name": "stdout",
     "output_type": "stream",
     "text": [
      "Credit card: \n",
      "General-purpose credit card or charge card    59312\n",
      "Store credit card                             12501\n",
      "Name: sub_product, dtype: int64 \n",
      "\n",
      "Prepaid card: \n",
      "General-purpose prepaid card              2959\n",
      "General purpose card                      1752\n",
      "Government benefit card                   1728\n",
      "Payroll card                               742\n",
      "Mobile wallet                              418\n",
      "Gift or merchant card                      402\n",
      "Government benefit payment card            389\n",
      "Gift card                                  292\n",
      "ID prepaid card                            207\n",
      "Other special purpose card                 191\n",
      "Transit card                                37\n",
      "Electronic Benefit Transfer / EBT card      12\n",
      "Student prepaid card                         7\n",
      "Name: sub_product, dtype: int64 \n",
      "\n",
      "Virtual currency: \n",
      "Mobile or digital wallet    4100\n",
      "Virtual currency            2670\n",
      "Name: sub_product, dtype: int64 \n",
      "\n",
      "Money transfers: \n",
      "Domestic (US) money transfer    7264\n",
      "International money transfer    5554\n",
      "Foreign currency exchange        250\n",
      "Name: sub_product, dtype: int64 \n",
      "\n",
      "Money service: \n",
      "Debt settlement                        440\n",
      "Traveler's check or cashier's check    353\n",
      "Money order                            307\n",
      "Check cashing service                  277\n",
      "Refund anticipation check              151\n",
      "Name: sub_product, dtype: int64 \n",
      "\n",
      "Payday loan: \n",
      "Payday loan    3951\n",
      "Name: sub_product, dtype: int64 \n",
      "\n",
      "Consumer loanProduct: \n",
      "Series([], Name: sub_product, dtype: int64) \n",
      "\n"
     ]
    }
   ],
   "source": [
    "\"\"\"Review revised product/sub_category groups\"\"\"\n",
    "\n",
    "products = [\n",
    "    'Credit card',\n",
    "    'Prepaid card',\n",
    "    'Virtual currency',\n",
    "    'Money transfers',\n",
    "    'Money service',\n",
    "    'Payday loan',\n",
    "    'Consumer loan'\n",
    "    'Product'\n",
    "]\n",
    "\n",
    "for product in products:\n",
    "    print(f\"{product}: \\n{complaints.loc[complaints['product'] == product,'sub_product'].value_counts()} \\n\")"
   ]
  },
  {
   "cell_type": "markdown",
   "metadata": {},
   "source": [
    "## Prepare data for presentation\n",
    "* Create container variables for sub_products for easy comparison & graphic creation.\n",
    "* Add % columns to product and sub_product dataframes for graphics."
   ]
  },
  {
   "cell_type": "code",
   "execution_count": 26,
   "metadata": {},
   "outputs": [],
   "source": [
    "\"\"\"Create variables containing sub_products of each product\"\"\"\n",
    "\n",
    "credit_reporting_bool = complaints['product'] == 'Credit reporting'\n",
    "credit_rep_subproducts = complaints[credit_reporting_bool]['sub_product'].value_counts()\n",
    "\n",
    "mortgage_bool = complaints['product'] == 'Mortgage'\n",
    "mortgage_subproducts = complaints[mortgage_bool]['sub_product'].value_counts()\n",
    "\n",
    "debt_col_bool = complaints['product'] == 'Debt collection'\n",
    "debt_col_subproducts = complaints[debt_col_bool]['sub_product'].value_counts()\n",
    "\n",
    "credit_card_bool = complaints['product'] == 'Credit card'\n",
    "credit_card_subproducts = complaints[credit_card_bool]['sub_product'].value_counts\n",
    "\n",
    "bank_account_bool = complaints['product'] == 'Bank account or service'\n",
    "bank_account_subproducts = complaints[bank_account_bool]['sub_product'].value_counts\n",
    "\n",
    "student_loan_bool = complaints['product'] == 'Studen loan'\n",
    "studen_loan_subproducts = complaints[student_loan_bool]['sub_product'].value_counts()\n",
    "\n",
    "checking_savings_bool = complaints['product'] == 'Checking or savings account'\n",
    "checking_savings_subproducts = complaints[checking_savings_bool]['sub_product'].value_counts()\n",
    "\n",
    "consumer_loan_bool = complaints['product'] == 'Consumer Loan'\n",
    "consumer_loan_subproducts = complaints[consumer_loan_bool]['sub_product'].value_counts()\n",
    "\n",
    "vehicle_loan_bool = complaints['product'] == 'Vehicle loan or lease'\n",
    "vehicle_loan_subproducts = complaints[vehicle_loan_bool]['sub_product'].value_counts()\n",
    "\n",
    "mt_bool = complaints['product'] == 'Money transfers'\n",
    "mt_subproducts = complaints[mt_bool]['sub_product'].value_counts()\n",
    "\n",
    "payday_bool = complaints['product'] == 'Payday loan'\n",
    "payday_subproducts = complaints[payday_bool]['sub_product'].value_counts()\n",
    "\n",
    "prepaid_bool = complaints['product'] == 'Prepaid card'\n",
    "prepaid_subproducts = complaints[prepaid_bool]['sub_product'].value_counts()\n",
    "\n",
    "vc_bool = complaints['product'] == 'Virtual currency'\n",
    "vc_subproducts = complaints[vc_bool]['sub_product'].value_counts()\n",
    "\n",
    "ms_bool = complaints['product'] == 'Money service'\n",
    "ms_subproducts = complaints[ms_bool]['sub_product'].value_counts()\n",
    "\n",
    "mt_bool = complaints['product'] == 'Money transfers'\n",
    "mt_subproducts = complaints[mt_bool]['sub_product'].value_counts()\n",
    "\n",
    "other_bool = complaints['product'] == 'Other financial service'\n",
    "other_subproducts = complaints[other_bool]['sub_product'].value_counts()"
   ]
  },
  {
   "cell_type": "code",
   "execution_count": 27,
   "metadata": {},
   "outputs": [
    {
     "name": "stdout",
     "output_type": "stream",
     "text": [
      "                             num_complaints  perc_total\n",
      "Credit reporting                     460406    0.314056\n",
      "Mortgage                             292752    0.199695\n",
      "Debt collection                      274659    0.187353\n",
      "Credit card                          149909    0.102257\n",
      "Bank account or service               86206    0.058804\n",
      "Student loan                          55725    0.038012\n",
      "Checking or savings account           54987    0.037508\n",
      "Consumer loan                         39591    0.027006\n",
      "Vehicle loan or lease                 14927    0.010182\n",
      "Money transfers                       11950    0.008151\n",
      "Payday loan                            9070    0.006187\n",
      "Prepaid card                           7725    0.005269\n",
      "Virtual currency                       5782    0.003944\n",
      "Money service                          1309    0.000893\n",
      "Other financial service                1001    0.000683\n",
      "1.0\n"
     ]
    }
   ],
   "source": [
    "products = complaints['product'].value_counts()\n",
    "products = products.to_frame() # Otherwise 'products' is a series and additional column cannot be added\n",
    "\n",
    "# Calculate number of complaints by % of total and add as separate column\n",
    "products.columns = ['num_complaints']\n",
    "products['perc_total'] = products['num_complaints']/sum(products['num_complaints'])\n",
    "\n",
    "print(products)\n",
    "print(sum(products['perc_total'])) # Check sum to 100%"
   ]
  },
  {
   "cell_type": "code",
   "execution_count": 28,
   "metadata": {},
   "outputs": [
    {
     "name": "stdout",
     "output_type": "stream",
     "text": [
      "                                        num_complaints  perc_total\n",
      "Credit reporting                                314241    0.255307\n",
      "Other debt                                      139663    0.113470\n",
      "Checking account                                100452    0.081613\n",
      "Other mortgage                                   86635    0.070387\n",
      "Conventional fixed mortgage                      70613    0.057370\n",
      "...                                                ...         ...\n",
      "Traveler’s/Cashier’s checks                         88    0.000071\n",
      "Transit card                                        37    0.000030\n",
      "Pawn loan                                           27    0.000022\n",
      "Electronic Benefit Transfer / EBT card              12    0.000010\n",
      "Student prepaid card                                 6    0.000005\n",
      "\n",
      "[73 rows x 2 columns]\n",
      "0.9999999999999999\n"
     ]
    }
   ],
   "source": [
    "sub_products = complaints['sub_product'].value_counts()\n",
    "sub_products = sub_products.to_frame() # Otherwise sub_products is a series and additional column cannot be added\n",
    "\n",
    "# Calculate number of complaints by % of total\n",
    "sub_products.columns = ['num_complaints']\n",
    "sub_products['perc_total'] = sub_products['num_complaints']/sum(sub_products['num_complaints'])\n",
    "\n",
    "print(sub_products)\n",
    "print(sum(sub_products['perc_total'])) # Check sum to 100%"
   ]
  },
  {
   "cell_type": "code",
   "execution_count": 29,
   "metadata": {},
   "outputs": [
    {
     "name": "stdout",
     "output_type": "stream",
     "text": [
      "Credit report \n",
      " Credit reporting                  314241\n",
      "Other personal consumer report      4599\n",
      "Credit repair services              1133\n",
      "Conventional home mortgage             1\n",
      "Name: sub_product, dtype: int64\n",
      "\n",
      "\n",
      "Mortgage \n",
      " Other mortgage                                86635\n",
      "Conventional fixed mortgage                   70613\n",
      "Conventional home mortgage                    38005\n",
      "FHA mortgage                                  33838\n",
      "Conventional adjustable mortgage (ARM)        25380\n",
      "Home equity loan or line of credit            11624\n",
      "Other type of mortgage                        10036\n",
      "VA mortgage                                    8442\n",
      "Home equity loan or line of credit (HELOC)     4409\n",
      "Reverse mortgage                               3108\n",
      "Second mortgage                                 662\n",
      "Name: sub_product, dtype: int64\n",
      "\n",
      "\n",
      "Debt collection \n",
      " Other debt                   139663\n",
      "Credit card                   28698\n",
      "Credit card debt              27284\n",
      "Medical                       21187\n",
      "Medical debt                  20952\n",
      "Payday loan                    7563\n",
      "Mortgage                       4809\n",
      "Auto debt                      4160\n",
      "Payday loan debt               3980\n",
      "Auto                           3755\n",
      "Mortgage debt                  2973\n",
      "Non-federal student loan       2881\n",
      "Federal student loan           2475\n",
      "Federal student loan debt      2251\n",
      "Private student loan debt      2028\n",
      "Name: sub_product, dtype: int64\n",
      "\n",
      "\n",
      "Credit card \n",
      " General-purpose credit card or charge card    49907\n",
      "Store credit card                             10812\n",
      "Name: sub_product, dtype: int64\n",
      "\n",
      "\n",
      "Bank account or service \n",
      " Checking account                      59045\n",
      "Other bank product/service            17825\n",
      "Savings account                        5294\n",
      "(CD) Certificate of deposit            3417\n",
      "Cashing a check without an account      625\n",
      "Name: sub_product, dtype: int64\n",
      "\n",
      "\n"
     ]
    }
   ],
   "source": [
    "\"\"\"Review most complained about sub_products in top 5 product groups\"\"\"\n",
    "print('Credit report', '\\n', complaints.loc[complaints['product'] == 'Credit reporting', 'sub_product'].value_counts() )\n",
    "print('\\n')\n",
    "\n",
    "print('Mortgage', '\\n', complaints.loc[complaints['product'] == 'Mortgage', 'sub_product'].value_counts() )\n",
    "print('\\n')\n",
    "\n",
    "print('Debt collection', '\\n', complaints.loc[complaints['product'] == 'Debt collection', 'sub_product'].value_counts() )\n",
    "print('\\n')\n",
    "\n",
    "print('Credit card', '\\n', complaints.loc[complaints['product'] == 'Credit card', 'sub_product'].value_counts() )\n",
    "print('\\n')\n",
    "\n",
    "print('Bank account or service', '\\n', complaints.loc[complaints['product'] == 'Bank account or service', 'sub_product'].value_counts() )\n",
    "print('\\n')\n",
    "\n",
    "# I wonder why complaints for fixed mortgages are twice as high as ARMs?\n",
    "# Difficult to know with the \"other mortgage\" category."
   ]
  },
  {
   "cell_type": "markdown",
   "metadata": {},
   "source": [
    "## Observations:\n",
    "* Not enough sub_product detail in mortgage to attempt to understand why there are more 2x nire complaints for fixed rather than ARM. Since \"Conventional home\" and \"other mortgage\" are broad subcategories without more detail, there can be substantial overlap between the two, and original dataset from gov didn't provide much clarification here.\n"
   ]
  },
  {
   "cell_type": "markdown",
   "metadata": {},
   "source": [
    "## Conclusions & visualizations"
   ]
  },
  {
   "cell_type": "code",
   "execution_count": 32,
   "metadata": {},
   "outputs": [
    {
     "data": {
      "image/png": "[encoded data removed]",
      "text/plain": [
       "<Figure size 432x288 with 1 Axes>"
      ]
     },
     "metadata": {
      "needs_background": "light"
     },
     "output_type": "display_data"
    }
   ],
   "source": [
    "\"\"\"Instructions for visualization\"\"\"\n",
    "\n",
    "prod_greater_5 = products[products['perc_total'] > 0.05]\n",
    "prod_less_5 = products[products['perc_total'] < 0.05]\n",
    "prod_greater_5_type = prod_greater_5.index.values\n",
    "\n",
    "fig, ax = plt.subplots()\n",
    "ax.bar(prod_greater_5_type, prod_greater_5['perc_total'], color=[246/255, 168/255, 78/255])\n",
    "\n",
    "ax.spines[\"left\"].set_visible(False)\n",
    "ax.spines[\"bottom\"].set_visible(False)\n",
    "ax.spines[\"top\"].set_visible(False)\n",
    "ax.spines[\"right\"].set_visible(False)\n",
    "\n",
    "\n",
    "# Function definition from: https://stackoverflow.com/questions/28931224/adding-value-labels-on-a-matplotlib-bar-chart\n",
    "def add_value_labels(ax, spacing=5):\n",
    "    \"\"\"Add labels to the end of each bar in a bar chart.\n",
    "\n",
    "    Arguments:\n",
    "        ax (matplotlib.axes.Axes): The matplotlib object containing the axes\n",
    "            of the plot to annotate.\n",
    "        spacing (int): The distance between the labels and the bars.\n",
    "    \"\"\"\n",
    "\n",
    "    # For each bar: Place a label\n",
    "    for rect in ax.patches:\n",
    "        # Get X and Y placement of label from rect.\n",
    "        y_value = rect.get_height()\n",
    "        x_value = rect.get_x() + rect.get_width() / 2\n",
    "\n",
    "        # Number of points between bar and label. Change to your liking.\n",
    "        space = spacing\n",
    "        # Vertical alignment for positive values\n",
    "        va = 'bottom'\n",
    "\n",
    "        # If value of bar is negative: Place label below bar\n",
    "        if y_value < 0:\n",
    "            # Invert space to place label below\n",
    "            space *= -1\n",
    "            # Vertically align label at top\n",
    "            va = 'top'\n",
    "\n",
    "        # Use Y value as label and format number with one decimal place\n",
    "        label = \"{:.0f}%\".format(y_value*100)\n",
    "\n",
    "        # Create annotation\n",
    "        ax.annotate(\n",
    "            label,                      # Use `label` as label\n",
    "            (x_value, y_value),         # Place label at end of the bar\n",
    "            xytext=(0, space),          # Vertically shift label by `space`\n",
    "            textcoords=\"offset points\", # Interpret `xytext` as offset in points\n",
    "            ha='center',                # Horizontally center label\n",
    "            va=va)                      # Vertically align label differently for\n",
    "                                        # positive and negative values.\n",
    "\n",
    "\n",
    "# Call the function above. All the magic happens there.\n",
    "add_value_labels(ax)\n",
    "\n",
    "# Turn off tick labels\n",
    "# Source: https://stackoverflow.com/questions/37039685/hide-axis-values-in-matplotlib\n",
    "ax.set_yticklabels([])\n",
    "\n",
    "\n",
    "plt.yticks([])\n",
    "\n",
    "plt.title('Top 5 most complained about products', fontweight = 'bold', ha = 'center', pad = 25)\n",
    "plt.xticks(rotation = 90)\n",
    "\n",
    "\n",
    "plt.show()"
   ]
  },
  {
   "cell_type": "code",
   "execution_count": 33,
   "metadata": {},
   "outputs": [
    {
     "data": {
      "text/plain": [
       "<matplotlib.axes._subplots.AxesSubplot at 0x1a7211d70b8>"
      ]
     },
     "execution_count": 33,
     "metadata": {},
     "output_type": "execute_result"
    },
    {
     "data": {
      "image/png": "[encoded data removed]",
      "text/plain": [
       "<Figure size 432x288 with 1 Axes>"
      ]
     },
     "metadata": {
      "needs_background": "light"
     },
     "output_type": "display_data"
    }
   ],
   "source": [
    "credit_rep_subproducts.plot(kind='bar')"
   ]
  },
  {
   "cell_type": "code",
   "execution_count": 34,
   "metadata": {},
   "outputs": [
    {
     "name": "stdout",
     "output_type": "stream",
     "text": [
      "Incorrect information on your report                                                190027\n",
      "Incorrect information on credit report                                              102686\n",
      "Problem with a credit reporting company's investigation into an existing problem     70390\n",
      "Improper use of your report                                                          40244\n",
      "Credit reporting company's investigation                                             16883\n",
      "Unable to get credit report/credit score                                             10859\n",
      "Unable to get your credit report or credit score                                      6916\n",
      "Problem with fraud alerts or security freezes                                         6712\n",
      "Improper use of my credit report                                                      5580\n",
      "Credit monitoring or identity protection                                              4424\n",
      "Credit monitoring or identity theft protection services                               3386\n",
      "Problem with a company's investigation into an existing issue                          760\n",
      "Identity theft protection or other monitoring services                                 396\n",
      "Fraud or scam                                                                          392\n",
      "Problem with customer service                                                          241\n",
      "Confusing or misleading advertising or marketing                                       181\n",
      "Unexpected or other fees                                                               145\n",
      "Confusing or missing disclosures                                                        99\n",
      "Excessive fees                                                                          75\n",
      "Getting a loan or lease                                                                  3\n",
      "Closing on a mortgage                                                                    2\n",
      "Problem when making payments                                                             1\n",
      "Struggling to pay mortgage                                                               1\n",
      "Dealing with your lender or servicer                                                     1\n",
      "Getting a credit card                                                                    1\n",
      "Problem with the payoff process at the end of the loan                                   1\n",
      "Name: issue, dtype: int64\n",
      "\n",
      "\n",
      "Information belongs to someone else                                                      98313\n",
      "Their investigation did not fix an error on your report                                  51983\n",
      "Account status                                                                           37057\n",
      "Information is not mine                                                                  32384\n",
      "Account status incorrect                                                                 32179\n",
      "Account information incorrect                                                            29230\n",
      "Credit inquiries on your report that you don't recognize                                 26978\n",
      "Reporting company used your report improperly                                            12511\n",
      "Account terms                                                                            10995\n",
      "Personal information incorrect                                                            9614\n",
      "Public record                                                                             8876\n",
      "Public record information inaccurate                                                      8205\n",
      "Old information reappears or never goes away                                              7988\n",
      "Personal information                                                                      7529\n",
      "Problem getting my free annual report                                                     6469\n",
      "No notice of investigation status/result                                                  6418\n",
      "Problem with statement of dispute                                                         5907\n",
      "Reinserted previously deleted info                                                        5845\n",
      "Investigation took more than 30 days                                                      5345\n",
      "Report improperly shared by CRC                                                           5243\n",
      "Difficulty submitting a dispute or getting information about a dispute over the phone     5136\n",
      "Was not notified of investigation status or results                                       5003\n",
      "Problem getting report or credit score                                                    4390\n",
      "Information is missing that should be on the report                                       3784\n",
      "Other problem getting your report or credit score                                         3713\n",
      "Problem with personal statement of dispute                                                3683\n",
      "Problem getting your free annual credit report                                            3203\n",
      "Investigation took too long                                                               2781\n",
      "Problem with fraud alerts                                                                 2104\n",
      "Inadequate help over the phone                                                            1777\n",
      "Billing dispute for services                                                              1359\n",
      "Billing dispute                                                                            881\n",
      "Problem canceling credit monitoring or identify theft protection service                   844\n",
      "Account terms and changes                                                                  721\n",
      "Didn't receive services that were advertised                                               719\n",
      "Information is incorrect                                                                   611\n",
      "Problem with product or service terms changing                                             609\n",
      "Problem cancelling or closing account                                                      489\n",
      "Report provided to employer without your written authorization                             385\n",
      "Received unsolicited financial product or insurance offers after opting out                370\n",
      "Received unwanted marketing or advertising                                                 251\n",
      "Receiving unwanted marketing/advertising                                                   223\n",
      "Received marketing offer after opted out                                                   170\n",
      "Report shared with employer w/o consent                                                    167\n",
      "Information that should be on the report is missing                                        101\n",
      "Insurance terms                                                                              6\n",
      "Credit denial                                                                                3\n",
      "Received bad information about your loan                                                     1\n",
      "Problem during payment process                                                               1\n",
      "Card opened as result of identity theft or fraud                                             1\n",
      "Name: sub_issue, dtype: int64\n",
      "\n",
      "\n",
      "Loan modification,collection,foreclosure                                            112309\n",
      "Loan servicing, payments, escrow account                                             77333\n",
      "Trouble during payment process                                                       30301\n",
      "Struggling to pay mortgage                                                           22773\n",
      "Application, originator, mortgage broker                                             17229\n",
      "Settlement process and costs                                                          8940\n",
      "Applying for a mortgage or refinancing an existing mortgage                           5714\n",
      "Credit decision / Underwriting                                                        5652\n",
      "Other                                                                                 5425\n",
      "Closing on a mortgage                                                                 4651\n",
      "Incorrect information on your report                                                  1275\n",
      "Applying for a mortgage                                                                626\n",
      "Problem with a credit reporting company's investigation into an existing problem       345\n",
      "Improper use of your report                                                            105\n",
      "Unable to get your credit report or credit score                                        37\n",
      "Credit monitoring or identity theft protection services                                 28\n",
      "Problem with fraud alerts or security freezes                                            9\n",
      "Name: issue, dtype: int64\n",
      "\n",
      "\n"
     ]
    },
    {
     "name": "stdout",
     "output_type": "stream",
     "text": [
      "Cont'd attempts collect debt not owed                            60682\n",
      "Attempts to collect debt not owed                                57752\n",
      "Communication tactics                                            38467\n",
      "Disclosure verification of debt                                  30797\n",
      "Written notification about debt                                  29614\n",
      "False statements or representation                               22818\n",
      "Took or threatened to take negative or legal action              12160\n",
      "Improper contact or sharing of info                              10068\n",
      "Taking/threatening an illegal action                              8860\n",
      "Threatened to contact someone or share information improperly     3441\n",
      "Name: issue, dtype: int64\n",
      "\n",
      "\n",
      "Problem with a purchase shown on your statement                                     15603\n",
      "Billing disputes                                                                    15136\n",
      "Other                                                                                9353\n",
      "Identity theft / Fraud / Embezzlement                                                8481\n",
      "Other features, terms, or problems                                                   8231\n",
      "Fees or interest                                                                     8160\n",
      "Closing/Cancelling account                                                           6389\n",
      "Getting a credit card                                                                6259\n",
      "Problem when making payments                                                         6125\n",
      "APR or interest rate                                                                 5506\n",
      "Closing your account                                                                 4858\n",
      "Advertising and marketing, including promotional offers                              3937\n",
      "Late fee                                                                             3639\n",
      "Customer service / Customer relations                                                3504\n",
      "Delinquent account                                                                   3218\n",
      "Credit determination                                                                 3057\n",
      "Advertising and marketing                                                            2926\n",
      "Rewards                                                                              2916\n",
      "Credit card protection / Debt protection                                             2728\n",
      "Transaction issue                                                                    2700\n",
      "Billing statement                                                                    2619\n",
      "Trouble using your card                                                              2454\n",
      "Payoff process                                                                       2315\n",
      "Incorrect information on your report                                                 2245\n",
      "Other fee                                                                            2198\n",
      "Credit line increase/decrease                                                        2185\n",
      "Unsolicited issuance of credit card                                                  1853\n",
      "Credit reporting                                                                     1696\n",
      "Struggling to pay your bill                                                          1479\n",
      "Balance transfer                                                                     1117\n",
      "Collection practices                                                                 1001\n",
      "Collection debt dispute                                                               901\n",
      "Problem with a credit reporting company's investigation into an existing problem      829\n",
      "Forbearance / Workout plans                                                           556\n",
      "Application processing delay                                                          540\n",
      "Privacy                                                                               489\n",
      "Bankruptcy                                                                            448\n",
      "Improper use of your report                                                           377\n",
      "Arbitration                                                                           349\n",
      "Sale of account                                                                       344\n",
      "Cash advance                                                                          245\n",
      "Balance transfer fee                                                                  221\n",
      "Overlimit fee                                                                         215\n",
      "Cash advance fee                                                                      196\n",
      "Convenience checks                                                                    149\n",
      "Credit monitoring or identity theft protection services                                77\n",
      "Unable to get your credit report or credit score                                       60\n",
      "Problem with fraud alerts or security freezes                                          20\n",
      "Problem with credit report or credit score                                              5\n",
      "Name: issue, dtype: int64\n",
      "\n",
      "\n",
      "Account opening, closing, or management     37961\n",
      "Deposits and withdrawals                    22851\n",
      "Problems caused by my funds being low       11845\n",
      "Making/receiving payments, sending money     7404\n",
      "Using a debit or ATM card                    6145\n",
      "Name: issue, dtype: int64\n"
     ]
    }
   ],
   "source": [
    "print( complaints.loc[complaints['product'] == 'Credit reporting', 'issue'].value_counts() )\n",
    "print('\\n')\n",
    "print( complaints.loc[complaints['product'] == 'Credit reporting', 'sub_issue'].value_counts() )\n",
    "print('\\n')\n",
    "print( complaints.loc[complaints['product'] == 'Mortgage', 'issue'].value_counts() )\n",
    "print('\\n')\n",
    "print( complaints.loc[complaints['product'] == 'Debt collection', 'issue'].value_counts() )\n",
    "print('\\n')\n",
    "print( complaints.loc[complaints['product'] == 'Credit card', 'issue'].value_counts() )\n",
    "print('\\n')\n",
    "print( complaints.loc[complaints['product'] == 'Bank account or service', 'issue'].value_counts() )\n"
   ]
  },
  {
   "cell_type": "code",
   "execution_count": 35,
   "metadata": {},
   "outputs": [
    {
     "name": "stdout",
     "output_type": "stream",
     "text": [
      "Incorrect information on your report    99214\n",
      "Name: issue, dtype: int64\n",
      "\n",
      "\n",
      "Credit reporting               98313\n",
      "Credit card                      456\n",
      "Vehicle loan or lease            124\n",
      "Student loan                     102\n",
      "Checking or savings account       93\n",
      "Consumer loan                     84\n",
      "Payday loan                       42\n",
      "Name: product, dtype: int64\n",
      "\n",
      "\n",
      "Information belongs to someone else                    99214\n",
      "Account status incorrect                               34411\n",
      "Account information incorrect                          31034\n",
      "Personal information incorrect                          9710\n",
      "Public record information inaccurate                    8291\n",
      "Old information reappears or never goes away            8244\n",
      "Information is missing that should be on the report     3932\n",
      "Information is incorrect                                 611\n",
      "Information that should be on the report is missing      101\n",
      "Incorrect information on your report                       1\n",
      "Name: sub_issue, dtype: int64\n",
      "\n",
      "\n",
      "Account status                        37057\n",
      "Information is not mine               32384\n",
      "Account terms                         10995\n",
      "Public record                          8876\n",
      "Personal information                   7529\n",
      "Reinserted previously deleted info     5845\n",
      "Name: sub_issue, dtype: int64\n"
     ]
    }
   ],
   "source": [
    "# Investigate largest issues & sub_issues in credit reporting\n",
    "print( complaints.loc[complaints['sub_issue'] == 'Information belongs to someone else', 'issue'].value_counts() )\n",
    "print('\\n')\n",
    "print( complaints.loc[complaints['sub_issue'] == 'Information belongs to someone else', 'product'].value_counts() )\n",
    "print('\\n')\n",
    "print( complaints.loc[complaints['issue'] == 'Incorrect information on your report', 'sub_issue'].value_counts() )\n",
    "print('\\n')\n",
    "print( complaints.loc[complaints['issue'] == 'Incorrect information on credit report', 'sub_issue'].value_counts() )\n"
   ]
  },
  {
   "cell_type": "markdown",
   "metadata": {},
   "source": [
    "# Conclusions and observations:\n",
    "\n",
    "* Consumers complain the most about companies that they do not have a choice in patroning; that is, credit reporting companies.\n",
    "* The single largest issue consumers report to the CFPB is incorrect data on their credit report. Yet even when credit reporting companies make these types of errors, consumers do not have the option to opt out.\n",
    "* The lack of consumer choice is opting in or out of their data being collected by credit reporting companies likely plays in a role in why they are the most complained about company type in America."
   ]
  },
  {
   "cell_type": "markdown",
   "metadata": {},
   "source": [
    "Possible Next steps:\n",
    "* Basemap to display state with most complaints? What types of companies are most complained about by state?\n",
    "\n",
    "Basemap sources:\n",
    "* Tutorial with zip codes: http://www.jtrive.com/visualizing-population-density-by-zip-code-with-basemap.html\n",
    "* https://basemaptutorial.readthedocs.io/en/latest/\n",
    "* https://readthedocs.org/projects/basemaptutorial/downloads/pdf/latest/\n",
    "* https://rabernat.github.io/research_computing/intro-to-basemap.html\n",
    "* https://geoexamples.com/python/2014/11/26/basemap-tutorial.html\n",
    "\n"
   ]
  }
 ],
 "metadata": {
  "kernelspec": {
   "display_name": "Python 3",
   "language": "python",
   "name": "python3"
  },
  "language_info": {
   "codemirror_mode": {
    "name": "ipython",
    "version": 3
   },
   "file_extension": ".py",
   "mimetype": "text/x-python",
   "name": "python",
   "nbconvert_exporter": "python",
   "pygments_lexer": "ipython3",
   "version": "3.8.0"
  }
 },
 "nbformat": 4,
 "nbformat_minor": 2
}
