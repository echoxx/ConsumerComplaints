{
 "cells": [
  {
   "cell_type": "markdown",
   "metadata": {},
   "source": [
    "Data.gov\n",
    "Source: https://catalog.data.gov/dataset/consumer-complaint-database#topic=consumer_navigation"
   ]
  },
  {
   "cell_type": "code",
   "execution_count": null,
   "metadata": {},
   "outputs": [],
   "source": [
    "import pandas as pd\n",
    "import numpy as np\n",
    "import matplotlib.pyplot as plt\n",
    "%matplotlib inline\n",
    "\n"
   ]
  },
  {
   "cell_type": "code",
   "execution_count": null,
   "metadata": {},
   "outputs": [],
   "source": [
    "# Used to see all rows of a data frame.\n",
    "def print_full(x):\n",
    "    pd.set_option('display.max_rows', len(x))\n",
    "    print(x)\n",
    "    pd.reset_option('display.max_rows')"
   ]
  },
  {
   "cell_type": "code",
   "execution_count": null,
   "metadata": {},
   "outputs": [],
   "source": [
    "complaints = pd.read_csv('Consumer_Complaints.csv')"
   ]
  },
  {
   "cell_type": "code",
   "execution_count": null,
   "metadata": {
    "scrolled": true
   },
   "outputs": [],
   "source": [
    "print( len(complaints))\n",
    "complaints.head()\n",
    "\n"
   ]
  },
  {
   "cell_type": "code",
   "execution_count": null,
   "metadata": {},
   "outputs": [],
   "source": [
    "cols_dropped = ['Consumer complaint narrative', 'Company public response', 'Tags', \n",
    "                'Consumer consent provided?,', 'Submitted via', 'Timely response?', \n",
    "                'Complaint ID'],"
   ]
  },
  {
   "cell_type": "markdown",
   "metadata": {},
   "source": [
    "Investigate:\n",
    "* Most complained about products + sub-products\n",
    "* Most complained about issues + sub-issues\n",
    "* What does it mean to get a \"timely\" response? Website says 97% timeley responses, but what does that mean?\n",
    "** Source: https://www.consumerfinance.gov/data-research/consumer-complaints/\n",
    "** Not much clearer on the company's data field github page either: https://cfpb.github.io/api/ccdb/fields.html\n",
    "* How many complaints were sent to company the same day they were submitted by the user? Was this only b/c of weekends? Or \n",
    "    longer delay for certain things? \n",
    "* Use the timeclass object to chedk for Fridays & other analysis. Will need to convert date columns to timeclass or pandas\n",
    "    timeclass\n",
    "\n",
    "Next steps:\n",
    "* Basecamp to display zip codes with most complaints? What types of companies are most complained about by state?"
   ]
  },
  {
   "cell_type": "code",
   "execution_count": null,
   "metadata": {},
   "outputs": [],
   "source": [
    "cols_dropped = ['Consumer complaint narrative', 'Tags', 'Complaint ID']\n",
    "complaints.drop(cols_dropped, axis = 1, inplace = True)"
   ]
  },
  {
   "cell_type": "code",
   "execution_count": null,
   "metadata": {},
   "outputs": [],
   "source": [
    "print( len(complaints['Company public response'].unique()) )\n",
    "print(len(complaints['Company response to consumer'].unique()) )"
   ]
  },
  {
   "cell_type": "code",
   "execution_count": null,
   "metadata": {},
   "outputs": [],
   "source": [
    "print (\"Shape: \", complaints.shape)\n",
    "complaints.head()"
   ]
  },
  {
   "cell_type": "code",
   "execution_count": null,
   "metadata": {},
   "outputs": [],
   "source": [
    "# Column renaming from Pandas cheat sheet: https://www.dataquest.io/blog/pandas-cheat-sheet/\n",
    "complaints.columns = ['date_received', 'product', 'sub_product', \n",
    "                      'issue', 'sub_issue', \n",
    "                      'com_public_response', \n",
    "                      'company', 'state', 'zip', \n",
    "                      'consent_provided?', 'submitted_via',\n",
    "                      'date_to_company', 'comp_response_to_consumer',\n",
    "                      'timely_response?', 'consumer_disputed?']\n",
    "\n",
    "complaints.head()"
   ]
  },
  {
   "cell_type": "code",
   "execution_count": null,
   "metadata": {},
   "outputs": [],
   "source": [
    "complaints.drop(complaints[''])"
   ]
  },
  {
   "cell_type": "code",
   "execution_count": null,
   "metadata": {},
   "outputs": [],
   "source": [
    "complaints['date_received'] = pd.to_datetime(complaints['date_received'], format = '%m/%d/%Y') a\n",
    "complaints['date_receivedd'] = pd.to_datetime(complaints['date_to_company'], format = '%m/%d/%Y')"
   ]
  },
  {
   "cell_type": "code",
   "execution_count": null,
   "metadata": {},
   "outputs": [],
   "source": [
    "print( complaints.info() )\n",
    "print( '\\n')\n",
    "print( complaints.dtypes)"
   ]
  },
  {
   "cell_type": "code",
   "execution_count": null,
   "metadata": {},
   "outputs": [],
   "source": [
    "# print(\"Products: \", len(complaints['product'].unique()))\n",
    "# print(\"Sub-products: \", len(complaints['sub-product'].unique() ))\n",
    "\n",
    "\n",
    "\n"
   ]
  },
  {
   "cell_type": "code",
   "execution_count": null,
   "metadata": {},
   "outputs": [],
   "source": [
    "# Remove \"I do not know\" label from all subproducts\"\n",
    "complaints.drop(complaints[complaints['sub_product'] == 'I do not know'].index, inplace = True)"
   ]
  },
  {
   "cell_type": "code",
   "execution_count": null,
   "metadata": {
    "scrolled": true
   },
   "outputs": [],
   "source": [
    "# Display products by # of complaints\n",
    "products = complaints['product'].value_counts()\n",
    "\n",
    "print(products)\n",
    "# print(type(products))\n",
    "complaints['product'].value_counts().plot(kind='bar')"
   ]
  },
  {
   "cell_type": "markdown",
   "metadata": {},
   "source": [
    "There are several product categories that are redundant:\n",
    "* Credit card / credit card or prepaid card / prepaid card\n",
    "* Money transfers / money transfer, virtual currency, or money service / virtual currency\n",
    "* Payday loan / payday loan, title loan, orpersonal loan / consumer loan\n",
    "\n",
    "The following section sorts the aggregate product categories into other product categories that already exist."
   ]
  },
  {
   "cell_type": "code",
   "execution_count": null,
   "metadata": {},
   "outputs": [],
   "source": [
    "complaints['product'].value_counts()\n",
    "\n"
   ]
  },
  {
   "cell_type": "code",
   "execution_count": null,
   "metadata": {},
   "outputs": [],
   "source": [
    "complaints.loc[complaints['product'] == 'Consumer Loan'] = 'Consumer loan' # for consistency's sake"
   ]
  },
  {
   "cell_type": "code",
   "execution_count": null,
   "metadata": {},
   "outputs": [],
   "source": [
    "# This cell was used as aid to help sort sub_products into correct product groups, out of mixed groups\n",
    "\n",
    "## Check Product 1\n",
    "credit_or_prepaid_bool = complaints['product'] == 'Credit card or prepaid card'\n",
    "credit_or_prepaid_cards = complaints[credit_or_prepaid_bool]\n",
    "print(\"Credit or prepaid card sub_products:\", \n",
    "      '\\n', \n",
    "      credit_or_prepaid_cards['sub_product'].value_counts(),\n",
    "     '\\n')\n",
    "\n",
    "## Check Product 1\n",
    "## No sub_product for credit cards\n",
    "credit_card_bool = complaints['product'] == 'Credit card'\n",
    "credit_cards = complaints[credit_card_bool]\n",
    "\n",
    "print(\"Credit cards sub_products:\", \n",
    "      '\\n', \n",
    "      credit_cards['sub_product'].value_counts(),\n",
    "     '\\n')\n",
    "\n",
    "# Check Product 1\n",
    "prepaid_bool = complaints['product'] == 'Prepaid card'\n",
    "prepaid_cards = complaints[prepaid_bool]\n",
    "print(\"Prepaid cards sub_products:\",\n",
    "      '\\n',\n",
    "      prepaid_cards['sub_product'].value_counts(),\n",
    "      '\\n')\n",
    "\n",
    "mt_vc_ms_bool = complaints['product'] == 'Money transfer, virtual currency, or money service'\n",
    "mt_vc_ms_subproducts = complaints[mt_vc_ms_bool]\n",
    "print(\"Money transfer, virtual currency, or money service sub_products:\", \n",
    "      '\\n', \n",
    "      mt_vc_ms_subproducts['sub_product'].value_counts(),\n",
    "     '\\n')"
   ]
  },
  {
   "cell_type": "code",
   "execution_count": null,
   "metadata": {},
   "outputs": [],
   "source": [
    "# This cell eliminates redundant product groups\n",
    "## 'Credit card and prepaid card'\n",
    "# Setting with copy warning solution found here: https://www.dataquest.io/blog/settingwithcopywarning/\n",
    "\n",
    "\n",
    "# Credit & prepaid cards\n",
    "complaints.loc[complaints['sub_product'] == 'General-purpose credit card or charge card', 'product'] = 'Credit card'\n",
    "complaints.loc[complaints['sub_product'] == 'Store credit card', 'product'] = 'Credit card'\n",
    "\n",
    "complaints.loc[complaints['sub_product'] == 'General-purpose prepaid card', 'product'] = 'Prepaid card'\n",
    "complaints.loc[complaints['sub_product'] == 'Government benefit card', 'product'] = 'Prepaid card'\n",
    "complaints.loc[complaints['sub_product'] == 'Payroll card', 'product'] = 'Prepaid card'\n",
    "complaints.loc[complaints['sub_product'] == 'Gift card', 'product'] = 'Prepaid card'\n",
    "complaints.loc[complaints['sub_product'] == 'Student prepaid card', 'product'] = 'Prepaid card'\n",
    "\n",
    "# Money transfers, virtual currency, or money service\n",
    "# Display sub_products in 'Virtual currency' product group. Only 2 types, not many data points.\n",
    "print ( complaints.loc[complaints['product'] == 'Virtual currency', 'sub_product'].value_counts() )\n",
    "\n",
    "complaints.loc[complaints['sub_product'] == 'Virtual currency', 'product'] = 'Virtual currency'\n",
    "complaints[complaints['sub_product'] == 'Virtual currency'] # remove when complete\n",
    "\n",
    "complaints.loc[complaints['sub_product'] == 'Domestic (US) money transfer', 'product'] = 'Money transfers'\n",
    "complaints.loc[complaints['sub_product'] == 'International money transfer', 'product'] = 'Money transfers'\n",
    "complaints.loc[complaints['sub_product'] == 'Foreign currency exchange', 'product'] = 'Money transfers'\n",
    "complaints.loc[complaints['sub_product'] == 'Mobile or digital wallet', 'product'] = 'Money transfers'\n",
    "\n",
    "# Rename trimmed product group \n",
    "complaints.loc[complaints['product'] == 'Money transfer, virtual currency, or money service', 'product'] = 'Money service'\n",
    "\n",
    "# Payday & consumer loans\n",
    "complaints.loc[(complaints['sub_product'] == 'Payday loan') &  \n",
    "               (complaints['product'] == 'Payday loan, title loan, or personal loan'), 'product'] = 'Payday loan'\n",
    "\n",
    "complaints.loc[(complaints['sub_product'] == 'Personal line of credit') &  \n",
    "               (complaints['product'] == 'Payday loan, title loan, or personal loan'), 'product'] = 'Consumer loan'\n",
    "\n",
    "complaints.loc[(complaints['sub_product'] == 'Installment loan') &  \n",
    "               (complaints['product'] == 'Payday loan, title loan, or personal loan'), 'product'] = 'Consumer loan'\n",
    "\n",
    "complaints.loc[(complaints['sub_product'] == 'Title loan') &  \n",
    "               (complaints['product'] == 'Payday loan, title loan, or personal loan'), 'product'] = 'Consumer loan'\n",
    "\n",
    "complaints.loc[(complaints['sub_product'] == 'Pawn loan') &  \n",
    "               (complaints['product'] == 'Payday loan, title loan, or personal loan'), 'product'] = 'Consumer loan'\n",
    "\n",
    "# Credit reporting\n",
    "complaints.loc[complaints['product'] == 'Credit reporting, credit repair services, or other personal consumer reports', \n",
    "               'product'] = 'Credit reporting'"
   ]
  },
  {
   "cell_type": "code",
   "execution_count": null,
   "metadata": {},
   "outputs": [],
   "source": [
    "# print ( complaints.loc[complaints['product'] == 'Money transfers', 'sub_product'].value_counts() )\n",
    "\n",
    "\n",
    "\n",
    "complaints.loc[complaints['product'] == 'Credit reporting', 'sub_product'].value_counts()\n",
    "\n",
    "# print ( complaints.loc[complaints['product'] == 'Payday loan, title loan, or personal loan', 'sub_product'].value_counts() ) \n",
    "# print('\\n')\n",
    "# print ( complaints.loc[complaints['product'] == 'Consumer loan', 'sub_product'].value_counts() ) \n",
    "# print('\\n')\n",
    "# print ( complaints.loc[complaints['product'] == 'Payday loan', 'sub_product'].value_counts() ) \n"
   ]
  },
  {
   "cell_type": "code",
   "execution_count": null,
   "metadata": {},
   "outputs": [],
   "source": [
    "complaints['product'].value_counts()"
   ]
  },
  {
   "cell_type": "markdown",
   "metadata": {},
   "source": [
    "To do:\n",
    "* Then, create exploratory graphic that lays them next to eachother\n"
   ]
  },
  {
   "cell_type": "code",
   "execution_count": null,
   "metadata": {},
   "outputs": [],
   "source": [
    "# REVISION: Do this by product category manually, then find a way to automate it later\n",
    "## Create a dict w/ the product:sub_product key:value pairs?\n",
    "\n",
    "mortgage_bool = complaints['product'] == 'Mortgage'\n",
    "mortgage_subproducts = complaints[mortgage_bool]['sub_product'].value_counts()\n",
    "\n",
    "debt_col_bool = complaints['product'] == 'Debt collection'\n",
    "debt_col_subproducts = complaints[debt_col_bool]['sub_product'].value_counts()\n",
    "\n",
    "credit_reporting_bool = complaints['product'] == 'Credit reporting'\n",
    "credit_rep_subproducts = complaints[credit_reporting_bool]['sub_product'].value_counts()\n",
    "\n",
    "credit_card_bool = complaints['product'] == 'Credit card'\n",
    "credit_card_subproducts = complaints[credit_card_bool]['sub_product'].value_counts\n",
    "\n",
    "bank_account_bool = complaints['product'] == 'Bank account or service'\n",
    "bank_account_subproducts = complaints[bank_account_bool]['sub_product'].value_counts\n",
    "\n",
    "student_loan_bool = complaints['product'] == 'Studen loan'\n",
    "studen_loan_subproducts = complaints[student_loan_bool]['sub_product'].value_counts()\n",
    "\n",
    "checking_savings_bool = complaints['product'] == 'Checking or savings account'\n",
    "checking_savings_subproducts = complaints[checking_savings_bool]['sub_product'].value_counts()\n",
    "\n",
    "consumer_loan_bool = complaints['product'] == 'Consumer Loan'\n",
    "consumer_loan_subproducts = complaints[consumer_loan_bool]['sub_product'].value_counts()\n",
    "\n",
    "vehicle_loan_bool = complaints['product'] == 'Vehicle loan or lease'\n",
    "vehicle_loan_subproducts = complaints[vehicle_loan_bool]['sub_product'].value_counts()\n",
    "\n",
    "## Check Product 2\n",
    "mt_bool = complaints['product'] == 'Money transfers'\n",
    "mt_subproducts = complaints[mt_bool]['sub_product'].value_counts()\n",
    "\n",
    "ms_bool = complaints['product'] == 'Money service'\n",
    "ms_subproducts = complaints[ms_bool]['sub_product'].value_counts()\n",
    "\n",
    "payday_bool = complaints['product'] == 'Payday loan'\n",
    "payday_subproducts = complaints[payday_bool]['sub_product'].value_counts()\n",
    "\n",
    "mt_bool = complaints['product'] == 'Money transfers'\n",
    "mt_subproducts = complaints[mt_bool]['sub_product'].value_counts()\n",
    "\n",
    "prepaid_bool = complaints['product'] == 'Prepaid card'\n",
    "prepaid_subproducts = complaints[prepaid_bool]['sub_product'].value_counts()\n",
    "\n",
    "other_bool = complaints['product'] == 'Other financial service'\n",
    "other_subproducts = complaints[other_bool]['sub_product'].value_counts()\n",
    "\n",
    "vc_bool = complaints['product'] == 'Virtual currency'\n",
    "vc_subproducts = complaints[vc_bool]['sub_product'].value_counts()\n",
    "\n",
    "\n",
    "\n",
    "\n",
    "\n",
    "\n"
   ]
  },
  {
   "cell_type": "code",
   "execution_count": null,
   "metadata": {},
   "outputs": [],
   "source": [
    "## Check Product 2\n",
    "ms_bool = complaints['product'] == 'Money service'\n",
    "ms_subproducts = complaints[ms_bool]['sub_product'].value_counts()\n",
    "ms_subproducts"
   ]
  },
  {
   "cell_type": "code",
   "execution_count": null,
   "metadata": {},
   "outputs": [],
   "source": [
    "products = complaints['product'].value_counts()\n",
    "products = products.to_frame() # Otherwise products is a series and additional column cannot be added\n",
    "\n",
    "# Calculate number of complaints by % of total\n",
    "products.columns = ['num_complaints']\n",
    "products['perc_total'] = products['num_complaints']/sum(products['num_complaints'])\n",
    "\n",
    "print(products)"
   ]
  },
  {
   "cell_type": "code",
   "execution_count": null,
   "metadata": {},
   "outputs": [],
   "source": [
    "sub_products = complaints['sub_product'].value_counts()\n",
    "sub_products = sub_products.to_frame() # Otherwise sub_products is a series and additional column cannot be added\n",
    "\n",
    "# Calculate number of complaints by % of total\n",
    "sub_products.columns = ['num_complaints']\n",
    "sub_products['perc_total'] = sub_products['num_complaints']/sum(sub_products['num_complaints'])\n",
    "\n",
    "print(sub_products)"
   ]
  },
  {
   "cell_type": "code",
   "execution_count": null,
   "metadata": {},
   "outputs": [],
   "source": [
    "print('Credit report', '\\n', complaints.loc[complaints['product'] == 'Credit reporting', 'sub_product'].value_counts() )\n",
    "print('\\n')\n",
    "\n",
    "print('Mortgage', '\\n', complaints.loc[complaints['product'] == 'Mortgage', 'sub_product'].value_counts() )\n",
    "print('\\n')\n",
    "\n",
    "print('Debt collection', '\\n', complaints.loc[complaints['product'] == 'Debt collection', 'sub_product'].value_counts() )\n",
    "print('\\n')\n",
    "\n",
    "print('Credit card', '\\n', complaints.loc[complaints['product'] == 'Credit card', 'sub_product'].value_counts() )\n",
    "print('\\n')\n",
    "\n",
    "print('Bank account or service', '\\n', complaints.loc[complaints['product'] == 'Bank account or service', 'sub_product'].value_counts() )\n",
    "print('\\n')\n",
    "\n",
    "# I wonder why complaints for fixed mortgages are twice as high as ARMs?\n",
    "# Difficult to know with the \"other mortgage\" category."
   ]
  },
  {
   "cell_type": "code",
   "execution_count": null,
   "metadata": {},
   "outputs": [],
   "source": [
    "prod_greater_5 = products[products['perc_total'] > 0.05]\n",
    "prod_less_5 = products[products['perc_total'] < 0.05]\n",
    "\n",
    "# Prod greater than 5%\n",
    "# prod_greater_5_name = prod_greater_5\n",
    "\n",
    "prod_greater_5_type = prod_greater_5.index.values\n",
    "\n",
    "# plt.bar(prod_greater_5_type, prod_greater_5['perc_total'])\n",
    "# # plt.tick_params(bottom = \"off\", top = \"off\", left = \"off\", right = \"off\")\n",
    "\n",
    "\n",
    "fig, ax = plt.subplots()\n",
    "ax.bar(prod_greater_5_type, prod_greater_5['perc_total'], color=[246/255, 168/255, 78/255])\n",
    "\n",
    "ax.spines[\"left\"].set_visible(False)\n",
    "ax.spines[\"bottom\"].set_visible(False)\n",
    "ax.spines[\"top\"].set_visible(False)\n",
    "ax.spines[\"right\"].set_visible(False)\n",
    "\n",
    "\n",
    "\n",
    "# Function definition from: https://stackoverflow.com/questions/28931224/adding-value-labels-on-a-matplotlib-bar-chart\n",
    "def add_value_labels(ax, spacing=5):\n",
    "    \"\"\"Add labels to the end of each bar in a bar chart.\n",
    "\n",
    "    Arguments:\n",
    "        ax (matplotlib.axes.Axes): The matplotlib object containing the axes\n",
    "            of the plot to annotate.\n",
    "        spacing (int): The distance between the labels and the bars.\n",
    "    \"\"\"\n",
    "\n",
    "    # For each bar: Place a label\n",
    "    for rect in ax.patches:\n",
    "        # Get X and Y placement of label from rect.\n",
    "        y_value = rect.get_height()\n",
    "        x_value = rect.get_x() + rect.get_width() / 2\n",
    "\n",
    "        # Number of points between bar and label. Change to your liking.\n",
    "        space = spacing\n",
    "        # Vertical alignment for positive values\n",
    "        va = 'bottom'\n",
    "\n",
    "        # If value of bar is negative: Place label below bar\n",
    "        if y_value < 0:\n",
    "            # Invert space to place label below\n",
    "            space *= -1\n",
    "            # Vertically align label at top\n",
    "            va = 'top'\n",
    "\n",
    "        # Use Y value as label and format number with one decimal place\n",
    "        label = \"{:.0f}%\".format(y_value*100)\n",
    "\n",
    "        # Create annotation\n",
    "        ax.annotate(\n",
    "            label,                      # Use `label` as label\n",
    "            (x_value, y_value),         # Place label at end of the bar\n",
    "            xytext=(0, space),          # Vertically shift label by `space`\n",
    "            textcoords=\"offset points\", # Interpret `xytext` as offset in points\n",
    "            ha='center',                # Horizontally center label\n",
    "            va=va)                      # Vertically align label differently for\n",
    "                                        # positive and negative values.\n",
    "\n",
    "\n",
    "# Call the function above. All the magic happens there.\n",
    "add_value_labels(ax)\n",
    "\n",
    "# Turn off tick labels\n",
    "# Source: https://stackoverflow.com/questions/37039685/hide-axis-values-in-matplotlib\n",
    "ax.set_yticklabels([])\n",
    "\n",
    "\n",
    "plt.yticks([])\n",
    "\n",
    "plt.title('Top 5 most complained about products', fontweight = 'bold', ha = 'center', pad = 25)\n",
    "plt.xticks(rotation = 90)\n",
    "\n",
    "\n",
    "fig.tight_layout()\n",
    "plt.show()\n",
    "\n",
    "prod_greater_5['perc_total'].plot(kind = 'bar')"
   ]
  },
  {
   "cell_type": "code",
   "execution_count": null,
   "metadata": {},
   "outputs": [],
   "source": [
    "print( complaints.loc[complaints['product'] == 'Credit reporting', 'issue'].value_counts() )\n",
    "print('\\n')\n",
    "print( complaints.loc[complaints['product'] == 'Mortgage', 'issue'].value_counts() )\n",
    "print('\\n')\n",
    "print( complaints.loc[complaints['product'] == 'Debt collection', 'issue'].value_counts() )\n",
    "print('\\n')\n",
    "print( complaints.loc[complaints['product'] == 'Credit card', 'issue'].value_counts() )\n",
    "print('\\n')\n",
    "print( complaints.loc[complaints['product'] == 'Bank account or service', 'issue'].value_counts() )\n"
   ]
  },
  {
   "cell_type": "code",
   "execution_count": null,
   "metadata": {},
   "outputs": [],
   "source": [
    "# Display sub-products by % of total complaints by sub-products\n",
    "# REVISION: Add threshold variable\n",
    "\n",
    "sub_prod_greater_3 = sub_products[sub_products['perc_total'] > 0.03]\n",
    "sub_prod_less_3 = sub_products[sub_products['perc_total'] < 0.03]\n",
    "\n",
    "sub_prod_greater_3['perc_total'].plot(kind = 'bar')"
   ]
  }
 ],
 "metadata": {
  "kernelspec": {
   "display_name": "Python 3",
   "language": "python",
   "name": "python3"
  },
  "language_info": {
   "codemirror_mode": {
    "name": "ipython",
    "version": 3
   },
   "file_extension": ".py",
   "mimetype": "text/x-python",
   "name": "python",
   "nbconvert_exporter": "python",
   "pygments_lexer": "ipython3",
   "version": "3.7.3"
  }
 },
 "nbformat": 4,
 "nbformat_minor": 2
}
