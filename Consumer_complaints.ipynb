{
 "cells": [
  {
   "cell_type": "markdown",
   "metadata": {},
   "source": [
    "Data.gov\n",
    "Source: https://catalog.data.gov/dataset/consumer-complaint-database#topic=consumer_navigation"
   ]
  },
  {
   "cell_type": "markdown",
   "metadata": {},
   "source": [
    "# TBD insert description of analysis here"
   ]
  },
  {
   "cell_type": "code",
   "execution_count": 1,
   "metadata": {},
   "outputs": [],
   "source": [
    "import pandas as pd\n",
    "import numpy as np\n",
    "import matplotlib.pyplot as plt\n",
    "%matplotlib inline\n",
    "\n"
   ]
  },
  {
   "cell_type": "code",
   "execution_count": 2,
   "metadata": {},
   "outputs": [],
   "source": [
    "\"\"\"  Used to see all rows of a data frame without permanently resetting maximum displayed rows.\"\"\"\n",
    "\n",
    "def print_full(x):\n",
    "    pd.set_option('display.max_rows', len(x)) \n",
    "    print(x)\n",
    "    pd.reset_option('display.max_rows')\n",
    "\n",
    "def print_len(data, int):\n",
    "    pd.set_option('display.max_rows', int)\n",
    "    print(data)\n",
    "    pd.reset_option('display.max_rows')"
   ]
  },
  {
   "cell_type": "code",
   "execution_count": 3,
   "metadata": {},
   "outputs": [],
   "source": [
    "complaints = pd.read_csv('Consumer_Complaints.csv')"
   ]
  },
  {
   "cell_type": "code",
   "execution_count": 4,
   "metadata": {
    "scrolled": true
   },
   "outputs": [
    {
     "name": "stdout",
     "output_type": "stream",
     "text": [
      "1465999\n"
     ]
    },
    {
     "data": {
      "text/html": [
       "<div>\n",
       "<style scoped>\n",
       "    .dataframe tbody tr th:only-of-type {\n",
       "        vertical-align: middle;\n",
       "    }\n",
       "\n",
       "    .dataframe tbody tr th {\n",
       "        vertical-align: top;\n",
       "    }\n",
       "\n",
       "    .dataframe thead th {\n",
       "        text-align: right;\n",
       "    }\n",
       "</style>\n",
       "<table border=\"1\" class=\"dataframe\">\n",
       "  <thead>\n",
       "    <tr style=\"text-align: right;\">\n",
       "      <th></th>\n",
       "      <th>Date received</th>\n",
       "      <th>Product</th>\n",
       "      <th>Sub-product</th>\n",
       "      <th>Issue</th>\n",
       "      <th>Sub-issue</th>\n",
       "      <th>Consumer complaint narrative</th>\n",
       "      <th>Company public response</th>\n",
       "      <th>Company</th>\n",
       "      <th>State</th>\n",
       "      <th>ZIP code</th>\n",
       "      <th>Tags</th>\n",
       "      <th>Consumer consent provided?</th>\n",
       "      <th>Submitted via</th>\n",
       "      <th>Date sent to company</th>\n",
       "      <th>Company response to consumer</th>\n",
       "      <th>Timely response?</th>\n",
       "      <th>Consumer disputed?</th>\n",
       "      <th>Complaint ID</th>\n",
       "    </tr>\n",
       "  </thead>\n",
       "  <tbody>\n",
       "    <tr>\n",
       "      <th>0</th>\n",
       "      <td>08/09/2015</td>\n",
       "      <td>Credit reporting</td>\n",
       "      <td>NaN</td>\n",
       "      <td>Incorrect information on credit report</td>\n",
       "      <td>Information is not mine</td>\n",
       "      <td>NaN</td>\n",
       "      <td>Company chooses not to provide a public response</td>\n",
       "      <td>Experian Information Solutions Inc.</td>\n",
       "      <td>NJ</td>\n",
       "      <td>08872</td>\n",
       "      <td>NaN</td>\n",
       "      <td>Consent not provided</td>\n",
       "      <td>Web</td>\n",
       "      <td>08/09/2015</td>\n",
       "      <td>Closed with non-monetary relief</td>\n",
       "      <td>Yes</td>\n",
       "      <td>No</td>\n",
       "      <td>1509954</td>\n",
       "    </tr>\n",
       "    <tr>\n",
       "      <th>1</th>\n",
       "      <td>02/06/2014</td>\n",
       "      <td>Mortgage</td>\n",
       "      <td>Other mortgage</td>\n",
       "      <td>Loan modification,collection,foreclosure</td>\n",
       "      <td>NaN</td>\n",
       "      <td>NaN</td>\n",
       "      <td>NaN</td>\n",
       "      <td>Ocwen Financial Corporation</td>\n",
       "      <td>CA</td>\n",
       "      <td>939XX</td>\n",
       "      <td>NaN</td>\n",
       "      <td>NaN</td>\n",
       "      <td>Referral</td>\n",
       "      <td>02/10/2014</td>\n",
       "      <td>Closed with explanation</td>\n",
       "      <td>Yes</td>\n",
       "      <td>No</td>\n",
       "      <td>700599</td>\n",
       "    </tr>\n",
       "    <tr>\n",
       "      <th>2</th>\n",
       "      <td>01/29/2019</td>\n",
       "      <td>Credit reporting, credit repair services, or o...</td>\n",
       "      <td>Credit reporting</td>\n",
       "      <td>Problem with a credit reporting company's inve...</td>\n",
       "      <td>Was not notified of investigation status or re...</td>\n",
       "      <td>NaN</td>\n",
       "      <td>NaN</td>\n",
       "      <td>EQUIFAX, INC.</td>\n",
       "      <td>NY</td>\n",
       "      <td>10801</td>\n",
       "      <td>NaN</td>\n",
       "      <td>Consent not provided</td>\n",
       "      <td>Web</td>\n",
       "      <td>01/30/2019</td>\n",
       "      <td>Closed with non-monetary relief</td>\n",
       "      <td>Yes</td>\n",
       "      <td>NaN</td>\n",
       "      <td>3136759</td>\n",
       "    </tr>\n",
       "    <tr>\n",
       "      <th>3</th>\n",
       "      <td>08/19/2015</td>\n",
       "      <td>Mortgage</td>\n",
       "      <td>Conventional adjustable mortgage (ARM)</td>\n",
       "      <td>Loan servicing, payments, escrow account</td>\n",
       "      <td>NaN</td>\n",
       "      <td>NaN</td>\n",
       "      <td>Company chooses not to provide a public response</td>\n",
       "      <td>WELLS FARGO &amp; COMPANY</td>\n",
       "      <td>CA</td>\n",
       "      <td>94526</td>\n",
       "      <td>NaN</td>\n",
       "      <td>Consent not provided</td>\n",
       "      <td>Web</td>\n",
       "      <td>08/19/2015</td>\n",
       "      <td>Closed with explanation</td>\n",
       "      <td>Yes</td>\n",
       "      <td>No</td>\n",
       "      <td>1527601</td>\n",
       "    </tr>\n",
       "    <tr>\n",
       "      <th>4</th>\n",
       "      <td>03/04/2016</td>\n",
       "      <td>Credit card</td>\n",
       "      <td>NaN</td>\n",
       "      <td>Billing disputes</td>\n",
       "      <td>NaN</td>\n",
       "      <td>I am dissatisfied with the current outcome of ...</td>\n",
       "      <td>NaN</td>\n",
       "      <td>DISCOVER BANK</td>\n",
       "      <td>NV</td>\n",
       "      <td>891XX</td>\n",
       "      <td>NaN</td>\n",
       "      <td>Consent provided</td>\n",
       "      <td>Web</td>\n",
       "      <td>03/04/2016</td>\n",
       "      <td>Closed with explanation</td>\n",
       "      <td>Yes</td>\n",
       "      <td>Yes</td>\n",
       "      <td>1816726</td>\n",
       "    </tr>\n",
       "  </tbody>\n",
       "</table>\n",
       "</div>"
      ],
      "text/plain": [
       "  Date received                                            Product  \\\n",
       "0    08/09/2015                                   Credit reporting   \n",
       "1    02/06/2014                                           Mortgage   \n",
       "2    01/29/2019  Credit reporting, credit repair services, or o...   \n",
       "3    08/19/2015                                           Mortgage   \n",
       "4    03/04/2016                                        Credit card   \n",
       "\n",
       "                              Sub-product  \\\n",
       "0                                     NaN   \n",
       "1                          Other mortgage   \n",
       "2                        Credit reporting   \n",
       "3  Conventional adjustable mortgage (ARM)   \n",
       "4                                     NaN   \n",
       "\n",
       "                                               Issue  \\\n",
       "0             Incorrect information on credit report   \n",
       "1           Loan modification,collection,foreclosure   \n",
       "2  Problem with a credit reporting company's inve...   \n",
       "3           Loan servicing, payments, escrow account   \n",
       "4                                   Billing disputes   \n",
       "\n",
       "                                           Sub-issue  \\\n",
       "0                            Information is not mine   \n",
       "1                                                NaN   \n",
       "2  Was not notified of investigation status or re...   \n",
       "3                                                NaN   \n",
       "4                                                NaN   \n",
       "\n",
       "                        Consumer complaint narrative  \\\n",
       "0                                                NaN   \n",
       "1                                                NaN   \n",
       "2                                                NaN   \n",
       "3                                                NaN   \n",
       "4  I am dissatisfied with the current outcome of ...   \n",
       "\n",
       "                            Company public response  \\\n",
       "0  Company chooses not to provide a public response   \n",
       "1                                               NaN   \n",
       "2                                               NaN   \n",
       "3  Company chooses not to provide a public response   \n",
       "4                                               NaN   \n",
       "\n",
       "                               Company State ZIP code Tags  \\\n",
       "0  Experian Information Solutions Inc.    NJ    08872  NaN   \n",
       "1          Ocwen Financial Corporation    CA    939XX  NaN   \n",
       "2                        EQUIFAX, INC.    NY    10801  NaN   \n",
       "3                WELLS FARGO & COMPANY    CA    94526  NaN   \n",
       "4                        DISCOVER BANK    NV    891XX  NaN   \n",
       "\n",
       "  Consumer consent provided? Submitted via Date sent to company  \\\n",
       "0       Consent not provided           Web           08/09/2015   \n",
       "1                        NaN      Referral           02/10/2014   \n",
       "2       Consent not provided           Web           01/30/2019   \n",
       "3       Consent not provided           Web           08/19/2015   \n",
       "4           Consent provided           Web           03/04/2016   \n",
       "\n",
       "      Company response to consumer Timely response? Consumer disputed?  \\\n",
       "0  Closed with non-monetary relief              Yes                 No   \n",
       "1          Closed with explanation              Yes                 No   \n",
       "2  Closed with non-monetary relief              Yes                NaN   \n",
       "3          Closed with explanation              Yes                 No   \n",
       "4          Closed with explanation              Yes                Yes   \n",
       "\n",
       "   Complaint ID  \n",
       "0       1509954  \n",
       "1        700599  \n",
       "2       3136759  \n",
       "3       1527601  \n",
       "4       1816726  "
      ]
     },
     "execution_count": 4,
     "metadata": {},
     "output_type": "execute_result"
    }
   ],
   "source": [
    "print( len(complaints))\n",
    "complaints.head()"
   ]
  },
  {
   "cell_type": "markdown",
   "metadata": {},
   "source": [
    "## Clean Data (A):\n",
    "* Drop unnecessary columns. This analysis will focus on product/sub-products that received the most complaints,and the issue/sub-issue related to those products.\n",
    "* Rename columns for ease of use.\n",
    "* * Convert dates to date_time type.\n",
    "\n",
    "[To Do:] Check for null values"
   ]
  },
  {
   "cell_type": "code",
   "execution_count": 5,
   "metadata": {},
   "outputs": [],
   "source": [
    "cols_dropped = ['Consumer complaint narrative', 'Company public response', 'Tags', \n",
    "                'Consumer consent provided?', 'Submitted via', 'Date sent to company', 'Timely response?', \n",
    "                'Complaint ID']\n",
    "\n",
    "complaints.drop(cols_dropped, axis = 1, inplace = True)"
   ]
  },
  {
   "cell_type": "code",
   "execution_count": 6,
   "metadata": {},
   "outputs": [],
   "source": [
    "# Reference: https://www.dataquest.io/blog/pandas-cheat-sheet/\n",
    "complaints.columns = ['date_received', 'product', 'sub_product', \n",
    "                      'issue', 'sub_issue', \n",
    "                      'company', 'state', 'zip', \n",
    "                      'comp_response_to_consumer',\n",
    "                      'disputed']\n"
   ]
  },
  {
   "cell_type": "code",
   "execution_count": 7,
   "metadata": {},
   "outputs": [],
   "source": [
    "complaints['date_received'] = pd.to_datetime(complaints['date_received'], format = '%m/%d/%Y') \n"
   ]
  },
  {
   "cell_type": "markdown",
   "metadata": {},
   "source": [
    "## Investigate Data (1)\n",
    "* Review column names and object types (all 'object' are strings, and therefore could require additional cleaning).\n",
    "* **TO DO: REVIEW PANDAS OBJECTS BEFORE FINALIZING THIS MARKDOWN**\n",
    "* Identify number of products (18) and subproducts (77).\n",
    "* Identify most complained about products and subproducts.\n"
   ]
  },
  {
   "cell_type": "code",
   "execution_count": 8,
   "metadata": {},
   "outputs": [
    {
     "name": "stdout",
     "output_type": "stream",
     "text": [
      "<class 'pandas.core.frame.DataFrame'>\n",
      "RangeIndex: 1465999 entries, 0 to 1465998\n",
      "Data columns (total 10 columns):\n",
      "date_received                1465999 non-null datetime64[ns]\n",
      "product                      1465999 non-null object\n",
      "sub_product                  1230834 non-null object\n",
      "issue                        1465999 non-null object\n",
      "sub_issue                    911781 non-null object\n",
      "company                      1465999 non-null object\n",
      "state                        1441644 non-null object\n",
      "zip                          1329548 non-null object\n",
      "comp_response_to_consumer    1465998 non-null object\n",
      "disputed                     768480 non-null object\n",
      "dtypes: datetime64[ns](1), object(9)\n",
      "memory usage: 111.8+ MB\n",
      "None\n",
      "\n",
      "\n",
      "date_received                datetime64[ns]\n",
      "product                              object\n",
      "sub_product                          object\n",
      "issue                                object\n",
      "sub_issue                            object\n",
      "company                              object\n",
      "state                                object\n",
      "zip                                  object\n",
      "comp_response_to_consumer            object\n",
      "disputed                             object\n",
      "dtype: object\n"
     ]
    }
   ],
   "source": [
    "print( complaints.info() )\n",
    "print( '\\n')\n",
    "print( complaints.dtypes)"
   ]
  },
  {
   "cell_type": "code",
   "execution_count": 9,
   "metadata": {},
   "outputs": [
    {
     "name": "stdout",
     "output_type": "stream",
     "text": [
      "Products:  18\n",
      "Sub-products:  77\n"
     ]
    }
   ],
   "source": [
    "\"\"\" Check total number of products and sub-products. \"\"\"\n",
    "\n",
    "print(\"Products: \", len(complaints['product'].unique()))\n",
    "print(\"Sub-products: \", len(complaints['sub_product'].unique() ))"
   ]
  },
  {
   "cell_type": "code",
   "execution_count": 10,
   "metadata": {
    "scrolled": true
   },
   "outputs": [
    {
     "name": "stdout",
     "output_type": "stream",
     "text": [
      "Credit reporting, credit repair services, or other personal consumer reports    319974\n",
      "Mortgage                                                                        292752\n",
      "Debt collection                                                                 274659\n",
      "Credit reporting                                                                140432\n",
      "Credit card                                                                      89190\n",
      "Bank account or service                                                          86206\n",
      "Credit card or prepaid card                                                      64625\n",
      "Student loan                                                                     55725\n",
      "Checking or savings account                                                      54987\n",
      "Consumer Loan                                                                    31604\n",
      "Vehicle loan or lease                                                            14927\n",
      "Money transfer, virtual currency, or money service                               13611\n",
      "Payday loan, title loan, or personal loan                                        11514\n",
      "Payday loan                                                                       5543\n",
      "Money transfers                                                                   5354\n",
      "Prepaid card                                                                      3819\n",
      "Other financial service                                                           1059\n",
      "Virtual currency                                                                    18\n",
      "Name: product, dtype: int64\n",
      "\n",
      "\n"
     ]
    },
    {
     "data": {
      "text/plain": [
       "<matplotlib.axes._subplots.AxesSubplot at 0x1b688b43e48>"
      ]
     },
     "execution_count": 10,
     "metadata": {},
     "output_type": "execute_result"
    },
    {
     "data": {
      "image/png": "[encoded data removed]",
      "text/plain": [
       "<Figure size 432x288 with 1 Axes>"
      ]
     },
     "metadata": {
      "needs_background": "light"
     },
     "output_type": "display_data"
    }
   ],
   "source": [
    "\"\"\" Display products sorted by # of complaints \"\"\"\n",
    "products = complaints['product'].value_counts()\n",
    "\n",
    "print(complaints['product'].value_counts())\n",
    "print('\\n')\n",
    "\n",
    "complaints['product'].value_counts().plot(kind='bar')"
   ]
  },
  {
   "cell_type": "code",
   "execution_count": 11,
   "metadata": {},
   "outputs": [
    {
     "name": "stdout",
     "output_type": "stream",
     "text": [
      "Credit reporting                              314241\n",
      "Checking account                              100452\n",
      "Other mortgage                                 86635\n",
      "Conventional fixed mortgage                    70613\n",
      "I do not know                                  56682\n",
      "General-purpose credit card or charge card     49907\n",
      "Other (i.e. phone, health club, etc.)          44544\n",
      "Other debt                                     38437\n",
      "Conventional home mortgage                     38006\n",
      "FHA mortgage                                   33838\n",
      "Credit card                                    28698\n",
      "Credit card debt                               27284\n",
      "Conventional adjustable mortgage (ARM)         25380\n",
      "Federal student loan servicing                 25198\n",
      "Non-federal student loan                       25164\n",
      "Medical                                        21187\n",
      "Medical debt                                   20952\n",
      "Other bank product/service                     17825\n",
      "Vehicle loan                                   17782\n",
      "Installment loan                               13374\n",
      "Loan                                           12416\n",
      "Home equity loan or line of credit             11624\n",
      "Payday loan                                    11090\n",
      "Store credit card                              10812\n",
      "Other type of mortgage                         10036\n",
      "Savings account                                 8956\n",
      "VA mortgage                                     8442\n",
      "Other banking product or service                8278\n",
      "Private student loan                            8244\n",
      "Domestic (US) money transfer                    6597\n",
      "International money transfer                    5128\n",
      "Mortgage                                        4809\n",
      "Other personal consumer report                  4599\n",
      "Home equity loan or line of credit (HELOC)      4409\n",
      "Auto debt                                       4160\n",
      "Personal line of credit                         4125\n",
      "Payday loan debt                                3980\n",
      "Auto                                            3755\n",
      "(CD) Certificate of deposit                     3417\n",
      "Mobile or digital wallet                        3298\n",
      "Reverse mortgage                                3108\n",
      "Mortgage debt                                   2973\n",
      "Vehicle lease                                   2658\n",
      "Lease                                           2496\n",
      "Virtual currency                                2484\n",
      "Federal student loan                            2475\n",
      "General-purpose prepaid card                    2298\n",
      "Federal student loan debt                       2251\n",
      "Private student loan debt                       2028\n",
      "General purpose card                            1752\n",
      "CD (Certificate of Deposit)                     1604\n",
      "Title loan                                      1582\n",
      "Credit repair services                          1133\n",
      "Government benefit card                         1081\n",
      "Debt settlement                                  698\n",
      "Payroll card                                     681\n",
      "Second mortgage                                  662\n",
      "Cashing a check without an account               625\n",
      "Money order                                      419\n",
      "Mobile wallet                                    418\n",
      "Gift or merchant card                            402\n",
      "Government benefit payment card                  389\n",
      "Traveler's check or cashier's check              317\n",
      "Check cashing                                    266\n",
      "Gift card                                        251\n",
      "Check cashing service                            233\n",
      "Foreign currency exchange                        225\n",
      "ID prepaid card                                  207\n",
      "Other special purpose card                       191\n",
      "Refund anticipation check                        186\n",
      "Pawn loan                                        121\n",
      "Credit repair                                    103\n",
      "Traveler’s/Cashier’s checks                       88\n",
      "Transit card                                      37\n",
      "Electronic Benefit Transfer / EBT card            12\n",
      "Student prepaid card                               6\n",
      "Name: sub_product, dtype: int64\n"
     ]
    }
   ],
   "source": [
    "\"\"\" Review all sub-products\n",
    "Recall: print_full defined above, to display all rows \"\"\"\n",
    "\n",
    "print_full(complaints['sub_product'].value_counts())"
   ]
  },
  {
   "cell_type": "code",
   "execution_count": 12,
   "metadata": {},
   "outputs": [
    {
     "name": "stdout",
     "output_type": "stream",
     "text": [
      "Debt collection    56682\n",
      "Name: product, dtype: int64\n",
      "I do not know                            56682\n",
      "Other (i.e. phone, health club, etc.)    44544\n",
      "Other debt                               38437\n",
      "Credit card                              28698\n",
      "Credit card debt                         27284\n",
      "Medical                                  21187\n",
      "Medical debt                             20952\n",
      "Payday loan                               7563\n",
      "Mortgage                                  4809\n",
      "Auto debt                                 4160\n",
      "Payday loan debt                          3980\n",
      "Auto                                      3755\n",
      "Mortgage debt                             2973\n",
      "Non-federal student loan                  2881\n",
      "Federal student loan                      2475\n",
      "Federal student loan debt                 2251\n",
      "Private student loan debt                 2028\n",
      "Name: sub_product, dtype: int64\n"
     ]
    }
   ],
   "source": [
    "\"\"\" Check which products the 'I do not know' sub_product is most found in \"\"\"\n",
    "\n",
    "idk_bool = complaints['sub_product'] == 'I do not know' # Bool for all sub_products with \"I do not know\" as answer\n",
    "print( complaints['product'][idk_bool].value_counts() )\n",
    "\n",
    "\"\"\" Check what other sub_products exist within the 'Debt collection' product \"\"\"\n",
    "print( complaints['sub_product'][complaints['product'] == 'Debt collection'].value_counts())"
   ]
  },
  {
   "cell_type": "code",
   "execution_count": 13,
   "metadata": {},
   "outputs": [
    {
     "data": {
      "text/plain": [
       "Debt collection    44544\n",
       "Name: product, dtype: int64"
      ]
     },
     "execution_count": 13,
     "metadata": {},
     "output_type": "execute_result"
    }
   ],
   "source": [
    "\"\"\" Check in which product categories the sub_product 'Other (i.e. phone, health club, etc.) exists.\n",
    "Result: only in 'Debt collection'\n",
    "\"\"\"\n",
    "\n",
    "complaints[complaints['sub_product'] == 'Other (i.e. phone, health club, etc.)']['product'].value_counts()"
   ]
  },
  {
   "cell_type": "markdown",
   "metadata": {},
   "source": [
    "## Observations:\n",
    "* \"I do not know\" is the 5th most answered sub-product. All of these are part of the \"debt collection\" product.\n",
    "* There are two 'other' subproducts within the 'Debt collection' product. \n",
    "\n",
    "Several other sub-product categories are redundant:\n",
    "* Credit card / credit card or prepaid card / prepaid card\n",
    "* Money transfers / money transfer, virtual currency, or money service / virtual currency\n",
    "* Payday loan / payday loan, title loan, orpersonal loan / consumer loan\n",
    "\n",
    "## Clean Data (B):\n",
    "* Rename and consolidate 'I do not know' and 'Other (i.e.phone, health club, etc.)' sub_product into 'Other debt' within\n",
    "    the 'Debt collection' product.\n",
    "* TBD: The following section sorts these aggregate product categories into other product categories that already exist."
   ]
  },
  {
   "cell_type": "code",
   "execution_count": 14,
   "metadata": {},
   "outputs": [
    {
     "name": "stdout",
     "output_type": "stream",
     "text": [
      "Other debt                   139663\n",
      "Credit card                   28698\n",
      "Credit card debt              27284\n",
      "Medical                       21187\n",
      "Medical debt                  20952\n",
      "Payday loan                    7563\n",
      "Mortgage                       4809\n",
      "Auto debt                      4160\n",
      "Payday loan debt               3980\n",
      "Auto                           3755\n",
      "Mortgage debt                  2973\n",
      "Non-federal student loan       2881\n",
      "Federal student loan           2475\n",
      "Federal student loan debt      2251\n",
      "Private student loan debt      2028\n",
      "Name: sub_product, dtype: int64\n"
     ]
    }
   ],
   "source": [
    "complaints['sub_product'] = complaints['sub_product'].str.replace('I do not know', 'Other debt')\n",
    "complaints['sub_product'] = complaints['sub_product'].str.replace('Other (i.e. phone, health club, etc.)', 'Other debt', \n",
    "                                                                 regex = False) \n",
    "\n",
    "\"\"\"\n",
    "Note: str.replace(regex = False) will treat the string being replace as a literal rather than a regex expression. \n",
    "Necessary to parse the parantheses in 'Other (i.e. phone, health club, etc.)', which would otherwise be\n",
    "treated as capture groups.\n",
    "see: https://pandas.pydata.org/pandas-docs/stable/reference/api/pandas.Series.str.replace.html \n",
    "\"\"\"\n",
    "\n",
    "# Confirm subproducts have been renamed\n",
    "print_full(complaints[complaints['product'] == 'Debt collection']['sub_product'].value_counts())"
   ]
  },
  {
   "cell_type": "code",
   "execution_count": 15,
   "metadata": {},
   "outputs": [],
   "source": [
    "complaints.loc[complaints['product'] == 'Consumer Loan'] = 'Consumer loan' # for consistency's sake"
   ]
  },
  {
   "cell_type": "code",
   "execution_count": 16,
   "metadata": {},
   "outputs": [
    {
     "name": "stdout",
     "output_type": "stream",
     "text": [
      "Credit or prepaid card sub_products: \n",
      " General-purpose credit card or charge card    49907\n",
      "Store credit card                             10812\n",
      "General-purpose prepaid card                   2298\n",
      "Government benefit card                        1081\n",
      "Payroll card                                    270\n",
      "Gift card                                       251\n",
      "Student prepaid card                              6\n",
      "Name: sub_product, dtype: int64 \n",
      "\n",
      "Credit cards sub_products: \n",
      " Series([], Name: sub_product, dtype: int64) \n",
      "\n",
      "Prepaid cards sub_products: \n",
      " General purpose card                      1752\n",
      "Mobile wallet                              418\n",
      "Payroll card                               411\n",
      "Gift or merchant card                      402\n",
      "Government benefit payment card            389\n",
      "ID prepaid card                            207\n",
      "Other special purpose card                 191\n",
      "Transit card                                37\n",
      "Electronic Benefit Transfer / EBT card      12\n",
      "Name: sub_product, dtype: int64 \n",
      "\n",
      "Money transfer, virtual currency, or money service sub_products: \n",
      " Domestic (US) money transfer           3996\n",
      "Mobile or digital wallet               3298\n",
      "Virtual currency                       2484\n",
      "International money transfer           2357\n",
      "Debt settlement                         365\n",
      "Traveler's check or cashier's check     317\n",
      "Money order                             276\n",
      "Check cashing service                   233\n",
      "Foreign currency exchange               167\n",
      "Refund anticipation check               118\n",
      "Name: sub_product, dtype: int64 \n",
      "\n"
     ]
    }
   ],
   "source": [
    "# This cell was used as aid to help sort sub_products into correct product groups, out of mixed groups\n",
    "\n",
    "## Check Product 1\n",
    "credit_or_prepaid_bool = complaints['product'] == 'Credit card or prepaid card'\n",
    "credit_or_prepaid_cards = complaints[credit_or_prepaid_bool]\n",
    "print(\"Credit or prepaid card sub_products:\", \n",
    "      '\\n', \n",
    "      credit_or_prepaid_cards['sub_product'].value_counts(),\n",
    "     '\\n')\n",
    "\n",
    "## Check Product 1\n",
    "## No sub_product for credit cards\n",
    "credit_card_bool = complaints['product'] == 'Credit card'\n",
    "credit_cards = complaints[credit_card_bool]\n",
    "\n",
    "print(\"Credit cards sub_products:\", \n",
    "      '\\n', \n",
    "      credit_cards['sub_product'].value_counts(),\n",
    "     '\\n')\n",
    "\n",
    "# Check Product 1\n",
    "prepaid_bool = complaints['product'] == 'Prepaid card'\n",
    "prepaid_cards = complaints[prepaid_bool]\n",
    "print(\"Prepaid cards sub_products:\",\n",
    "      '\\n',\n",
    "      prepaid_cards['sub_product'].value_counts(),\n",
    "      '\\n')\n",
    "\n",
    "mt_vc_ms_bool = complaints['product'] == 'Money transfer, virtual currency, or money service'\n",
    "mt_vc_ms_subproducts = complaints[mt_vc_ms_bool]\n",
    "print(\"Money transfer, virtual currency, or money service sub_products:\", \n",
    "      '\\n', \n",
    "      mt_vc_ms_subproducts['sub_product'].value_counts(),\n",
    "     '\\n')"
   ]
  },
  {
   "cell_type": "code",
   "execution_count": 17,
   "metadata": {},
   "outputs": [
    {
     "name": "stdout",
     "output_type": "stream",
     "text": [
      "Domestic (US) money transfer    17\n",
      "International money transfer     1\n",
      "Name: sub_product, dtype: int64\n"
     ]
    }
   ],
   "source": [
    "# This cell eliminates redundant product groups\n",
    "## 'Credit card and prepaid card'\n",
    "# Setting with copy warning solution found here: https://www.dataquest.io/blog/settingwithcopywarning/\n",
    "\n",
    "\n",
    "# Credit & prepaid cards\n",
    "complaints.loc[complaints['sub_product'] == 'General-purpose credit card or charge card', 'product'] = 'Credit card'\n",
    "complaints.loc[complaints['sub_product'] == 'Store credit card', 'product'] = 'Credit card'\n",
    "\n",
    "complaints.loc[complaints['sub_product'] == 'General-purpose prepaid card', 'product'] = 'Prepaid card'\n",
    "complaints.loc[complaints['sub_product'] == 'Government benefit card', 'product'] = 'Prepaid card'\n",
    "complaints.loc[complaints['sub_product'] == 'Payroll card', 'product'] = 'Prepaid card'\n",
    "complaints.loc[complaints['sub_product'] == 'Gift card', 'product'] = 'Prepaid card'\n",
    "complaints.loc[complaints['sub_product'] == 'Student prepaid card', 'product'] = 'Prepaid card'\n",
    "\n",
    "# Money transfers, virtual currency, or money service\n",
    "# Display sub_products in 'Virtual currency' product group. Only 2 types, not many data points.\n",
    "print ( complaints.loc[complaints['product'] == 'Virtual currency', 'sub_product'].value_counts() )\n",
    "\n",
    "complaints.loc[complaints['sub_product'] == 'Virtual currency', 'product'] = 'Virtual currency'\n",
    "complaints[complaints['sub_product'] == 'Virtual currency'] # remove when complete\n",
    "\n",
    "complaints.loc[complaints['sub_product'] == 'Domestic (US) money transfer', 'product'] = 'Money transfers'\n",
    "complaints.loc[complaints['sub_product'] == 'International money transfer', 'product'] = 'Money transfers'\n",
    "complaints.loc[complaints['sub_product'] == 'Foreign currency exchange', 'product'] = 'Money transfers'\n",
    "complaints.loc[complaints['sub_product'] == 'Mobile or digital wallet', 'product'] = 'Money transfers'\n",
    "\n",
    "# Rename trimmed product group \n",
    "complaints.loc[complaints['product'] == 'Money transfer, virtual currency, or money service', 'product'] = 'Money service'\n",
    "\n",
    "# Payday & consumer loans\n",
    "complaints.loc[(complaints['sub_product'] == 'Payday loan') &  \n",
    "               (complaints['product'] == 'Payday loan, title loan, or personal loan'), 'product'] = 'Payday loan'\n",
    "\n",
    "complaints.loc[(complaints['sub_product'] == 'Personal line of credit') &  \n",
    "               (complaints['product'] == 'Payday loan, title loan, or personal loan'), 'product'] = 'Consumer loan'\n",
    "\n",
    "complaints.loc[(complaints['sub_product'] == 'Installment loan') &  \n",
    "               (complaints['product'] == 'Payday loan, title loan, or personal loan'), 'product'] = 'Consumer loan'\n",
    "\n",
    "complaints.loc[(complaints['sub_product'] == 'Title loan') &  \n",
    "               (complaints['product'] == 'Payday loan, title loan, or personal loan'), 'product'] = 'Consumer loan'\n",
    "\n",
    "complaints.loc[(complaints['sub_product'] == 'Pawn loan') &  \n",
    "               (complaints['product'] == 'Payday loan, title loan, or personal loan'), 'product'] = 'Consumer loan'\n",
    "\n",
    "# Credit reporting\n",
    "complaints.loc[complaints['product'] == 'Credit reporting, credit repair services, or other personal consumer reports', \n",
    "               'product'] = 'Credit reporting'"
   ]
  },
  {
   "cell_type": "code",
   "execution_count": 18,
   "metadata": {},
   "outputs": [
    {
     "data": {
      "text/plain": [
       "Credit reporting                  314241\n",
       "Other personal consumer report      4599\n",
       "Credit repair services              1133\n",
       "Conventional home mortgage             1\n",
       "Name: sub_product, dtype: int64"
      ]
     },
     "execution_count": 18,
     "metadata": {},
     "output_type": "execute_result"
    }
   ],
   "source": [
    "# print ( complaints.loc[complaints['product'] == 'Money transfers', 'sub_product'].value_counts() )\n",
    "\n",
    "\n",
    "\n",
    "complaints.loc[complaints['product'] == 'Credit reporting', 'sub_product'].value_counts()\n",
    "\n",
    "# print ( complaints.loc[complaints['product'] == 'Payday loan, title loan, or personal loan', 'sub_product'].value_counts() ) \n",
    "# print('\\n')\n",
    "# print ( complaints.loc[complaints['product'] == 'Consumer loan', 'sub_product'].value_counts() ) \n",
    "# print('\\n')\n",
    "# print ( complaints.loc[complaints['product'] == 'Payday loan', 'sub_product'].value_counts() ) \n"
   ]
  },
  {
   "cell_type": "code",
   "execution_count": 19,
   "metadata": {},
   "outputs": [
    {
     "data": {
      "text/plain": [
       "Credit reporting               460406\n",
       "Mortgage                       292752\n",
       "Debt collection                274659\n",
       "Credit card                    149909\n",
       "Bank account or service         86206\n",
       "Student loan                    55725\n",
       "Checking or savings account     54987\n",
       "Consumer loan                   39591\n",
       "Money transfers                 15248\n",
       "Vehicle loan or lease           14927\n",
       "Payday loan                      9070\n",
       "Prepaid card                     7725\n",
       "Virtual currency                 2484\n",
       "Money service                    1309\n",
       "Other financial service          1001\n",
       "Name: product, dtype: int64"
      ]
     },
     "execution_count": 19,
     "metadata": {},
     "output_type": "execute_result"
    }
   ],
   "source": [
    "complaints['product'].value_counts()"
   ]
  },
  {
   "cell_type": "markdown",
   "metadata": {},
   "source": [
    "To do:\n",
    "* Then, create exploratory graphic that lays them next to eachother\n"
   ]
  },
  {
   "cell_type": "code",
   "execution_count": 20,
   "metadata": {},
   "outputs": [],
   "source": [
    "# REVISION: Do this by product category manually, then find a way to automate it later\n",
    "## Create a dict w/ the product:sub_product key:value pairs?\n",
    "\n",
    "mortgage_bool = complaints['product'] == 'Mortgage'\n",
    "mortgage_subproducts = complaints[mortgage_bool]['sub_product'].value_counts()\n",
    "\n",
    "debt_col_bool = complaints['product'] == 'Debt collection'\n",
    "debt_col_subproducts = complaints[debt_col_bool]['sub_product'].value_counts()\n",
    "\n",
    "credit_reporting_bool = complaints['product'] == 'Credit reporting'\n",
    "credit_rep_subproducts = complaints[credit_reporting_bool]['sub_product'].value_counts()\n",
    "\n",
    "credit_card_bool = complaints['product'] == 'Credit card'\n",
    "credit_card_subproducts = complaints[credit_card_bool]['sub_product'].value_counts\n",
    "\n",
    "bank_account_bool = complaints['product'] == 'Bank account or service'\n",
    "bank_account_subproducts = complaints[bank_account_bool]['sub_product'].value_counts\n",
    "\n",
    "student_loan_bool = complaints['product'] == 'Studen loan'\n",
    "studen_loan_subproducts = complaints[student_loan_bool]['sub_product'].value_counts()\n",
    "\n",
    "checking_savings_bool = complaints['product'] == 'Checking or savings account'\n",
    "checking_savings_subproducts = complaints[checking_savings_bool]['sub_product'].value_counts()\n",
    "\n",
    "consumer_loan_bool = complaints['product'] == 'Consumer Loan'\n",
    "consumer_loan_subproducts = complaints[consumer_loan_bool]['sub_product'].value_counts()\n",
    "\n",
    "vehicle_loan_bool = complaints['product'] == 'Vehicle loan or lease'\n",
    "vehicle_loan_subproducts = complaints[vehicle_loan_bool]['sub_product'].value_counts()\n",
    "\n",
    "## Check Product 2\n",
    "mt_bool = complaints['product'] == 'Money transfers'\n",
    "mt_subproducts = complaints[mt_bool]['sub_product'].value_counts()\n",
    "\n",
    "ms_bool = complaints['product'] == 'Money service'\n",
    "ms_subproducts = complaints[ms_bool]['sub_product'].value_counts()\n",
    "\n",
    "payday_bool = complaints['product'] == 'Payday loan'\n",
    "payday_subproducts = complaints[payday_bool]['sub_product'].value_counts()\n",
    "\n",
    "mt_bool = complaints['product'] == 'Money transfers'\n",
    "mt_subproducts = complaints[mt_bool]['sub_product'].value_counts()\n",
    "\n",
    "prepaid_bool = complaints['product'] == 'Prepaid card'\n",
    "prepaid_subproducts = complaints[prepaid_bool]['sub_product'].value_counts()\n",
    "\n",
    "other_bool = complaints['product'] == 'Other financial service'\n",
    "other_subproducts = complaints[other_bool]['sub_product'].value_counts()\n",
    "\n",
    "vc_bool = complaints['product'] == 'Virtual currency'\n",
    "vc_subproducts = complaints[vc_bool]['sub_product'].value_counts()\n",
    "\n",
    "\n",
    "\n",
    "\n",
    "\n",
    "\n"
   ]
  },
  {
   "cell_type": "code",
   "execution_count": 21,
   "metadata": {},
   "outputs": [
    {
     "data": {
      "text/plain": [
       "Debt settlement                        365\n",
       "Traveler's check or cashier's check    317\n",
       "Money order                            276\n",
       "Check cashing service                  233\n",
       "Refund anticipation check              118\n",
       "Name: sub_product, dtype: int64"
      ]
     },
     "execution_count": 21,
     "metadata": {},
     "output_type": "execute_result"
    }
   ],
   "source": [
    "## Check Product 2\n",
    "ms_bool = complaints['product'] == 'Money service'\n",
    "ms_subproducts = complaints[ms_bool]['sub_product'].value_counts()\n",
    "ms_subproducts"
   ]
  },
  {
   "cell_type": "code",
   "execution_count": 22,
   "metadata": {},
   "outputs": [
    {
     "name": "stdout",
     "output_type": "stream",
     "text": [
      "                             num_complaints  perc_total\n",
      "Credit reporting                     460406    0.314056\n",
      "Mortgage                             292752    0.199695\n",
      "Debt collection                      274659    0.187353\n",
      "Credit card                          149909    0.102257\n",
      "Bank account or service               86206    0.058804\n",
      "Student loan                          55725    0.038012\n",
      "Checking or savings account           54987    0.037508\n",
      "Consumer loan                         39591    0.027006\n",
      "Money transfers                       15248    0.010401\n",
      "Vehicle loan or lease                 14927    0.010182\n",
      "Payday loan                            9070    0.006187\n",
      "Prepaid card                           7725    0.005269\n",
      "Virtual currency                       2484    0.001694\n",
      "Money service                          1309    0.000893\n",
      "Other financial service                1001    0.000683\n"
     ]
    }
   ],
   "source": [
    "products = complaints['product'].value_counts()\n",
    "products = products.to_frame() # Otherwise products is a series and additional column cannot be added\n",
    "\n",
    "# Calculate number of complaints by % of total\n",
    "products.columns = ['num_complaints']\n",
    "products['perc_total'] = products['num_complaints']/sum(products['num_complaints'])\n",
    "\n",
    "print(products)"
   ]
  },
  {
   "cell_type": "code",
   "execution_count": 23,
   "metadata": {},
   "outputs": [
    {
     "name": "stdout",
     "output_type": "stream",
     "text": [
      "                                        num_complaints  perc_total\n",
      "Credit reporting                                314241    0.255307\n",
      "Other debt                                      139663    0.113470\n",
      "Checking account                                100452    0.081613\n",
      "Other mortgage                                   86635    0.070387\n",
      "Conventional fixed mortgage                      70613    0.057370\n",
      "...                                                ...         ...\n",
      "Traveler’s/Cashier’s checks                         88    0.000071\n",
      "Transit card                                        37    0.000030\n",
      "Pawn loan                                           27    0.000022\n",
      "Electronic Benefit Transfer / EBT card              12    0.000010\n",
      "Student prepaid card                                 6    0.000005\n",
      "\n",
      "[73 rows x 2 columns]\n"
     ]
    }
   ],
   "source": [
    "sub_products = complaints['sub_product'].value_counts()\n",
    "sub_products = sub_products.to_frame() # Otherwise sub_products is a series and additional column cannot be added\n",
    "\n",
    "# Calculate number of complaints by % of total\n",
    "sub_products.columns = ['num_complaints']\n",
    "sub_products['perc_total'] = sub_products['num_complaints']/sum(sub_products['num_complaints'])\n",
    "\n",
    "print(sub_products)"
   ]
  },
  {
   "cell_type": "code",
   "execution_count": 24,
   "metadata": {},
   "outputs": [
    {
     "name": "stdout",
     "output_type": "stream",
     "text": [
      "Credit report \n",
      " Credit reporting                  314241\n",
      "Other personal consumer report      4599\n",
      "Credit repair services              1133\n",
      "Conventional home mortgage             1\n",
      "Name: sub_product, dtype: int64\n",
      "\n",
      "\n",
      "Mortgage \n",
      " Other mortgage                                86635\n",
      "Conventional fixed mortgage                   70613\n",
      "Conventional home mortgage                    38005\n",
      "FHA mortgage                                  33838\n",
      "Conventional adjustable mortgage (ARM)        25380\n",
      "Home equity loan or line of credit            11624\n",
      "Other type of mortgage                        10036\n",
      "VA mortgage                                    8442\n",
      "Home equity loan or line of credit (HELOC)     4409\n",
      "Reverse mortgage                               3108\n",
      "Second mortgage                                 662\n",
      "Name: sub_product, dtype: int64\n",
      "\n",
      "\n",
      "Debt collection \n",
      " Other debt                   139663\n",
      "Credit card                   28698\n",
      "Credit card debt              27284\n",
      "Medical                       21187\n",
      "Medical debt                  20952\n",
      "Payday loan                    7563\n",
      "Mortgage                       4809\n",
      "Auto debt                      4160\n",
      "Payday loan debt               3980\n",
      "Auto                           3755\n",
      "Mortgage debt                  2973\n",
      "Non-federal student loan       2881\n",
      "Federal student loan           2475\n",
      "Federal student loan debt      2251\n",
      "Private student loan debt      2028\n",
      "Name: sub_product, dtype: int64\n",
      "\n",
      "\n",
      "Credit card \n",
      " General-purpose credit card or charge card    49907\n",
      "Store credit card                             10812\n",
      "Name: sub_product, dtype: int64\n",
      "\n",
      "\n",
      "Bank account or service \n",
      " Checking account                      59045\n",
      "Other bank product/service            17825\n",
      "Savings account                        5294\n",
      "(CD) Certificate of deposit            3417\n",
      "Cashing a check without an account      625\n",
      "Name: sub_product, dtype: int64\n",
      "\n",
      "\n"
     ]
    }
   ],
   "source": [
    "print('Credit report', '\\n', complaints.loc[complaints['product'] == 'Credit reporting', 'sub_product'].value_counts() )\n",
    "print('\\n')\n",
    "\n",
    "print('Mortgage', '\\n', complaints.loc[complaints['product'] == 'Mortgage', 'sub_product'].value_counts() )\n",
    "print('\\n')\n",
    "\n",
    "print('Debt collection', '\\n', complaints.loc[complaints['product'] == 'Debt collection', 'sub_product'].value_counts() )\n",
    "print('\\n')\n",
    "\n",
    "print('Credit card', '\\n', complaints.loc[complaints['product'] == 'Credit card', 'sub_product'].value_counts() )\n",
    "print('\\n')\n",
    "\n",
    "print('Bank account or service', '\\n', complaints.loc[complaints['product'] == 'Bank account or service', 'sub_product'].value_counts() )\n",
    "print('\\n')\n",
    "\n",
    "# I wonder why complaints for fixed mortgages are twice as high as ARMs?\n",
    "# Difficult to know with the \"other mortgage\" category."
   ]
  },
  {
   "cell_type": "code",
   "execution_count": 25,
   "metadata": {},
   "outputs": [
    {
     "data": {
      "image/png": "[encoded data removed]",
      "text/plain": [
       "<Figure size 432x288 with 1 Axes>"
      ]
     },
     "metadata": {
      "needs_background": "light"
     },
     "output_type": "display_data"
    },
    {
     "data": {
      "text/plain": [
       "<matplotlib.axes._subplots.AxesSubplot at 0x1b6bf4744a8>"
      ]
     },
     "execution_count": 25,
     "metadata": {},
     "output_type": "execute_result"
    },
    {
     "data": {
      "image/png": "[encoded data removed]",
      "text/plain": [
       "<Figure size 432x288 with 1 Axes>"
      ]
     },
     "metadata": {
      "needs_background": "light"
     },
     "output_type": "display_data"
    }
   ],
   "source": [
    "prod_greater_5 = products[products['perc_total'] > 0.05]\n",
    "prod_less_5 = products[products['perc_total'] < 0.05]\n",
    "\n",
    "# Prod greater than 5%\n",
    "# prod_greater_5_name = prod_greater_5\n",
    "\n",
    "prod_greater_5_type = prod_greater_5.index.values\n",
    "\n",
    "# plt.bar(prod_greater_5_type, prod_greater_5['perc_total'])\n",
    "# # plt.tick_params(bottom = \"off\", top = \"off\", left = \"off\", right = \"off\")\n",
    "\n",
    "\n",
    "fig, ax = plt.subplots()\n",
    "ax.bar(prod_greater_5_type, prod_greater_5['perc_total'], color=[246/255, 168/255, 78/255])\n",
    "\n",
    "ax.spines[\"left\"].set_visible(False)\n",
    "ax.spines[\"bottom\"].set_visible(False)\n",
    "ax.spines[\"top\"].set_visible(False)\n",
    "ax.spines[\"right\"].set_visible(False)\n",
    "\n",
    "\n",
    "\n",
    "# Function definition from: https://stackoverflow.com/questions/28931224/adding-value-labels-on-a-matplotlib-bar-chart\n",
    "def add_value_labels(ax, spacing=5):\n",
    "    \"\"\"Add labels to the end of each bar in a bar chart.\n",
    "\n",
    "    Arguments:\n",
    "        ax (matplotlib.axes.Axes): The matplotlib object containing the axes\n",
    "            of the plot to annotate.\n",
    "        spacing (int): The distance between the labels and the bars.\n",
    "    \"\"\"\n",
    "\n",
    "    # For each bar: Place a label\n",
    "    for rect in ax.patches:\n",
    "        # Get X and Y placement of label from rect.\n",
    "        y_value = rect.get_height()\n",
    "        x_value = rect.get_x() + rect.get_width() / 2\n",
    "\n",
    "        # Number of points between bar and label. Change to your liking.\n",
    "        space = spacing\n",
    "        # Vertical alignment for positive values\n",
    "        va = 'bottom'\n",
    "\n",
    "        # If value of bar is negative: Place label below bar\n",
    "        if y_value < 0:\n",
    "            # Invert space to place label below\n",
    "            space *= -1\n",
    "            # Vertically align label at top\n",
    "            va = 'top'\n",
    "\n",
    "        # Use Y value as label and format number with one decimal place\n",
    "        label = \"{:.0f}%\".format(y_value*100)\n",
    "\n",
    "        # Create annotation\n",
    "        ax.annotate(\n",
    "            label,                      # Use `label` as label\n",
    "            (x_value, y_value),         # Place label at end of the bar\n",
    "            xytext=(0, space),          # Vertically shift label by `space`\n",
    "            textcoords=\"offset points\", # Interpret `xytext` as offset in points\n",
    "            ha='center',                # Horizontally center label\n",
    "            va=va)                      # Vertically align label differently for\n",
    "                                        # positive and negative values.\n",
    "\n",
    "\n",
    "# Call the function above. All the magic happens there.\n",
    "add_value_labels(ax)\n",
    "\n",
    "# Turn off tick labels\n",
    "# Source: https://stackoverflow.com/questions/37039685/hide-axis-values-in-matplotlib\n",
    "ax.set_yticklabels([])\n",
    "\n",
    "\n",
    "plt.yticks([])\n",
    "\n",
    "plt.title('Top 5 most complained about products', fontweight = 'bold', ha = 'center', pad = 25)\n",
    "plt.xticks(rotation = 90)\n",
    "\n",
    "\n",
    "fig.tight_layout()\n",
    "plt.show()\n",
    "\n",
    "prod_greater_5['perc_total'].plot(kind = 'bar')"
   ]
  },
  {
   "cell_type": "code",
   "execution_count": 26,
   "metadata": {},
   "outputs": [
    {
     "name": "stdout",
     "output_type": "stream",
     "text": [
      "Incorrect information on your report                                                190027\n",
      "Incorrect information on credit report                                              102686\n",
      "Problem with a credit reporting company's investigation into an existing problem     70390\n",
      "Improper use of your report                                                          40244\n",
      "Credit reporting company's investigation                                             16883\n",
      "Unable to get credit report/credit score                                             10859\n",
      "Unable to get your credit report or credit score                                      6916\n",
      "Problem with fraud alerts or security freezes                                         6712\n",
      "Improper use of my credit report                                                      5580\n",
      "Credit monitoring or identity protection                                              4424\n",
      "Credit monitoring or identity theft protection services                               3386\n",
      "Problem with a company's investigation into an existing issue                          760\n",
      "Identity theft protection or other monitoring services                                 396\n",
      "Fraud or scam                                                                          392\n",
      "Problem with customer service                                                          241\n",
      "Confusing or misleading advertising or marketing                                       181\n",
      "Unexpected or other fees                                                               145\n",
      "Confusing or missing disclosures                                                        99\n",
      "Excessive fees                                                                          75\n",
      "Getting a loan or lease                                                                  3\n",
      "Closing on a mortgage                                                                    2\n",
      "Getting a credit card                                                                    1\n",
      "Problem when making payments                                                             1\n",
      "Problem with the payoff process at the end of the loan                                   1\n",
      "Struggling to pay mortgage                                                               1\n",
      "Dealing with your lender or servicer                                                     1\n",
      "Name: issue, dtype: int64\n",
      "\n",
      "\n",
      "Loan modification,collection,foreclosure                                            112309\n",
      "Loan servicing, payments, escrow account                                             77333\n",
      "Trouble during payment process                                                       30301\n",
      "Struggling to pay mortgage                                                           22773\n",
      "Application, originator, mortgage broker                                             17229\n",
      "Settlement process and costs                                                          8940\n",
      "Applying for a mortgage or refinancing an existing mortgage                           5714\n",
      "Credit decision / Underwriting                                                        5652\n",
      "Other                                                                                 5425\n",
      "Closing on a mortgage                                                                 4651\n",
      "Incorrect information on your report                                                  1275\n",
      "Applying for a mortgage                                                                626\n",
      "Problem with a credit reporting company's investigation into an existing problem       345\n",
      "Improper use of your report                                                            105\n",
      "Unable to get your credit report or credit score                                        37\n",
      "Credit monitoring or identity theft protection services                                 28\n",
      "Problem with fraud alerts or security freezes                                            9\n",
      "Name: issue, dtype: int64\n",
      "\n",
      "\n",
      "Cont'd attempts collect debt not owed                            60682\n",
      "Attempts to collect debt not owed                                57752\n",
      "Communication tactics                                            38467\n",
      "Disclosure verification of debt                                  30797\n",
      "Written notification about debt                                  29614\n",
      "False statements or representation                               22818\n",
      "Took or threatened to take negative or legal action              12160\n",
      "Improper contact or sharing of info                              10068\n",
      "Taking/threatening an illegal action                              8860\n",
      "Threatened to contact someone or share information improperly     3441\n",
      "Name: issue, dtype: int64\n",
      "\n",
      "\n",
      "Problem with a purchase shown on your statement                                     15603\n",
      "Billing disputes                                                                    15136\n",
      "Other                                                                                9353\n",
      "Identity theft / Fraud / Embezzlement                                                8481\n",
      "Other features, terms, or problems                                                   8231\n",
      "Fees or interest                                                                     8160\n",
      "Closing/Cancelling account                                                           6389\n",
      "Getting a credit card                                                                6259\n",
      "Problem when making payments                                                         6125\n",
      "APR or interest rate                                                                 5506\n",
      "Closing your account                                                                 4858\n",
      "Advertising and marketing, including promotional offers                              3937\n",
      "Late fee                                                                             3639\n",
      "Customer service / Customer relations                                                3504\n",
      "Delinquent account                                                                   3218\n",
      "Credit determination                                                                 3057\n",
      "Advertising and marketing                                                            2926\n",
      "Rewards                                                                              2916\n",
      "Credit card protection / Debt protection                                             2728\n",
      "Transaction issue                                                                    2700\n",
      "Billing statement                                                                    2619\n",
      "Trouble using your card                                                              2454\n",
      "Payoff process                                                                       2315\n",
      "Incorrect information on your report                                                 2245\n",
      "Other fee                                                                            2198\n",
      "Credit line increase/decrease                                                        2185\n",
      "Unsolicited issuance of credit card                                                  1853\n",
      "Credit reporting                                                                     1696\n",
      "Struggling to pay your bill                                                          1479\n",
      "Balance transfer                                                                     1117\n",
      "Collection practices                                                                 1001\n",
      "Collection debt dispute                                                               901\n",
      "Problem with a credit reporting company's investigation into an existing problem      829\n",
      "Forbearance / Workout plans                                                           556\n",
      "Application processing delay                                                          540\n",
      "Privacy                                                                               489\n",
      "Bankruptcy                                                                            448\n",
      "Improper use of your report                                                           377\n",
      "Arbitration                                                                           349\n",
      "Sale of account                                                                       344\n",
      "Cash advance                                                                          245\n",
      "Balance transfer fee                                                                  221\n",
      "Overlimit fee                                                                         215\n",
      "Cash advance fee                                                                      196\n",
      "Convenience checks                                                                    149\n",
      "Credit monitoring or identity theft protection services                                77\n",
      "Unable to get your credit report or credit score                                       60\n",
      "Problem with fraud alerts or security freezes                                          20\n",
      "Problem with credit report or credit score                                              5\n",
      "Name: issue, dtype: int64\n",
      "\n",
      "\n"
     ]
    },
    {
     "name": "stdout",
     "output_type": "stream",
     "text": [
      "Account opening, closing, or management     37961\n",
      "Deposits and withdrawals                    22851\n",
      "Problems caused by my funds being low       11845\n",
      "Making/receiving payments, sending money     7404\n",
      "Using a debit or ATM card                    6145\n",
      "Name: issue, dtype: int64\n"
     ]
    }
   ],
   "source": [
    "print( complaints.loc[complaints['product'] == 'Credit reporting', 'issue'].value_counts() )\n",
    "print('\\n')\n",
    "print( complaints.loc[complaints['product'] == 'Mortgage', 'issue'].value_counts() )\n",
    "print('\\n')\n",
    "print( complaints.loc[complaints['product'] == 'Debt collection', 'issue'].value_counts() )\n",
    "print('\\n')\n",
    "print( complaints.loc[complaints['product'] == 'Credit card', 'issue'].value_counts() )\n",
    "print('\\n')\n",
    "print( complaints.loc[complaints['product'] == 'Bank account or service', 'issue'].value_counts() )\n"
   ]
  },
  {
   "cell_type": "code",
   "execution_count": 27,
   "metadata": {},
   "outputs": [
    {
     "data": {
      "text/plain": [
       "<matplotlib.axes._subplots.AxesSubplot at 0x1b6c9a9d240>"
      ]
     },
     "execution_count": 27,
     "metadata": {},
     "output_type": "execute_result"
    },
    {
     "data": {
      "image/png": "[encoded data removed]",
      "text/plain": [
       "<Figure size 432x288 with 1 Axes>"
      ]
     },
     "metadata": {
      "needs_background": "light"
     },
     "output_type": "display_data"
    }
   ],
   "source": [
    "# Display sub-products by % of total complaints by sub-products\n",
    "# REVISION: Add threshold variable\n",
    "\n",
    "sub_prod_greater_3 = sub_products[sub_products['perc_total'] > 0.03]\n",
    "sub_prod_less_3 = sub_products[sub_products['perc_total'] < 0.03]\n",
    "\n",
    "sub_prod_greater_3['perc_total'].plot(kind = 'bar')"
   ]
  },
  {
   "cell_type": "markdown",
   "metadata": {},
   "source": [
    "Possible Next steps:\n",
    "* Basemap to display zip codes with most complaints? What types of companies are most complained about by state?\n",
    "\n",
    "Basemap sources:\n",
    "https://basemaptutorial.readthedocs.io/en/latest/\n",
    "https://readthedocs.org/projects/basemaptutorial/downloads/pdf/latest/\n",
    "https://rabernat.github.io/research_computing/intro-to-basemap.html\n"
   ]
  }
 ],
 "metadata": {
  "kernelspec": {
   "display_name": "Python 3",
   "language": "python",
   "name": "python3"
  },
  "language_info": {
   "codemirror_mode": {
    "name": "ipython",
    "version": 3
   },
   "file_extension": ".py",
   "mimetype": "text/x-python",
   "name": "python",
   "nbconvert_exporter": "python",
   "pygments_lexer": "ipython3",
   "version": "3.7.3"
  }
 },
 "nbformat": 4,
 "nbformat_minor": 2
}
